{
 "metadata": {
  "language_info": {
   "codemirror_mode": {
    "name": "ipython",
    "version": 3
   },
   "file_extension": ".py",
   "mimetype": "text/x-python",
   "name": "python",
   "nbconvert_exporter": "python",
   "pygments_lexer": "ipython3",
   "version": "3.7.9-final"
  },
  "orig_nbformat": 2,
  "kernelspec": {
   "name": "python3",
   "display_name": "Python 3.7.9 64-bit ('clayvideo')",
   "metadata": {
    "interpreter": {
     "hash": "ba98349a6ea5ffd30d102c48cd11c1df54681fdedf8477739102946494729da5"
    }
   }
  }
 },
 "nbformat": 4,
 "nbformat_minor": 2,
 "cells": [
  {
   "source": [
    "INSTALL PYTUBE"
   ],
   "cell_type": "markdown",
   "metadata": {}
  },
  {
   "cell_type": "code",
   "execution_count": 1,
   "metadata": {},
   "outputs": [
    {
     "output_type": "stream",
     "name": "stdout",
     "text": [
      "^C\n"
     ]
    }
   ],
   "source": [
    "\n",
    "## Install pyTube3 https://github.com/nficano/pytube\n",
    "!pip install git+https://github.com/pytube/pytube\n"
   ]
  },
  {
   "cell_type": "code",
   "execution_count": null,
   "metadata": {},
   "outputs": [],
   "source": [
    "\n",
    "#importing the module \n",
    "from pathlib import Path\n",
    "from pytube import YouTube\n",
    "video2Index = YouTube('https://www.youtube.com/watch?v=ijtKxXiS4hE').streams.first().download()\n",
    "video_name = Path(video2Index).stem\n",
    "\n"
   ]
  },
  {
   "source": [
    "CREATE AN AZURE VIDEO INDEXER INSTANCE"
   ],
   "cell_type": "markdown",
   "metadata": {}
  },
  {
   "cell_type": "code",
   "execution_count": null,
   "metadata": {},
   "outputs": [],
   "source": [
    "pip install video-indexer"
   ]
  },
  {
   "source": [
    "INITIALIZE CLIENT"
   ],
   "cell_type": "markdown",
   "metadata": {}
  },
  {
   "cell_type": "code",
   "execution_count": null,
   "metadata": {},
   "outputs": [],
   "source": [
    "from video_indexer import VideoIndexer\n",
    "\n",
    "vi = VideoIndexer(vi_subscription_key='5e7d57663db14ee58a06385263836438',\n",
    "                  vi_location='trial',\n",
    "                  vi_account_id='b8f7e815-9386-40e3-a527-2a6743630cef')"
   ]
  },
  {
   "source": [
    "UPLOAD VIDEO"
   ],
   "cell_type": "markdown",
   "metadata": {}
  },
  {
   "cell_type": "code",
   "execution_count": null,
   "metadata": {},
   "outputs": [],
   "source": [
    "video_id = vi.upload_to_video_indexer(\n",
    "              input_filename = video2Index,\n",
    "              video_name=video_name, #must be unique\n",
    "              video_language='English')"
   ]
  },
  {
   "source": [
    "GET VIDEO INFO"
   ],
   "cell_type": "markdown",
   "metadata": {}
  },
  {
   "cell_type": "code",
   "execution_count": null,
   "metadata": {},
   "outputs": [],
   "source": [
    "info = vi.get_video_info(video_id, video_language='English')\n"
   ]
  },
  {
   "source": [
    "EXTRACT KEYFRAMES ID"
   ],
   "cell_type": "markdown",
   "metadata": {}
  },
  {
   "cell_type": "code",
   "execution_count": null,
   "metadata": {},
   "outputs": [],
   "source": [
    "keyframes = []\n",
    "for shot in info[\"videos\"][0][\"insights\"][\"shots\"]:\n",
    "    for keyframe in shot[\"keyFrames\"]:\n",
    "        keyframes.append(keyframe[\"instances\"][0]['thumbnailId'])"
   ]
  },
  {
   "source": [
    "GET KEYFRAMES ID"
   ],
   "cell_type": "markdown",
   "metadata": {}
  },
  {
   "cell_type": "code",
   "execution_count": null,
   "metadata": {
    "tags": []
   },
   "outputs": [],
   "source": [
    "for keyframe in keyframes:\n",
    "    img_str = vi.get_thumbnail_from_video_indexer(video_id,    \n",
    "                                                  keyframe)\n",
    "img_str"
   ]
  },
  {
   "source": [
    "Use the Azure Computer Vision API to Extract Popular Brands from Key Frames\n",
    "\n",
    "INSTALL COMPUTERVISION CLIENT"
   ],
   "cell_type": "markdown",
   "metadata": {}
  },
  {
   "cell_type": "code",
   "execution_count": null,
   "metadata": {},
   "outputs": [],
   "source": [
    "pip install --upgrade azure-cognitiveservices-vision-computervision"
   ]
  },
  {
   "cell_type": "code",
   "execution_count": null,
   "metadata": {},
   "outputs": [],
   "source": [
    "pip install pillow"
   ]
  },
  {
   "source": [
    "AUTHRNTICATE THE CLIENT"
   ],
   "cell_type": "markdown",
   "metadata": {}
  },
  {
   "cell_type": "code",
   "execution_count": null,
   "metadata": {},
   "outputs": [],
   "source": [
    "from azure.cognitiveservices.vision.computervision import ComputerVisionClient\n",
    "from azure.cognitiveservices.vision.computervision.models import OperationStatusCodes\n",
    "from azure.cognitiveservices.vision.computervision.models import VisualFeatureTypes\n",
    "from msrest.authentication import CognitiveServicesCredentials\n",
    "\n",
    "from array import array\n",
    "import os\n",
    "from PIL import Image\n",
    "import sys\n",
    "import time\n",
    "\n"
   ]
  },
  {
   "source": [
    "GET VARIABLES FOR ENDPOINT AND APIKEYS"
   ],
   "cell_type": "markdown",
   "metadata": {}
  },
  {
   "cell_type": "code",
   "execution_count": null,
   "metadata": {},
   "outputs": [],
   "source": [
    "subscription_key_CV = \"c31039d57019480baf596f1ae6acdfa8\"\n",
    "endpoint_CV = \"https://cognitivegeneral.cognitiveservices.azure.com/\"\n",
    "computervision_client = ComputerVisionClient(endpoint_CV, CognitiveServicesCredentials(subscription_key_CV))"
   ]
  },
  {
   "source": [
    "VISUALIZE KEYFRAMES"
   ],
   "cell_type": "markdown",
   "metadata": {}
  },
  {
   "cell_type": "code",
   "execution_count": null,
   "metadata": {},
   "outputs": [],
   "source": [
    "import time\n",
    "from IPython.display import display\n",
    "from PIL import Image\n",
    "import io\n",
    "\n",
    "timeout_interval, timeout_time = 5, 10.0\n",
    "image_features = [\"brands\"]\n",
    "for index, keyframe in enumerate(keyframes):\n",
    "    if index % timeout_interval == 0:\n",
    "        print(\"Trying to prevent exceeding request limit waiting {}  seconds\".format(timeout_time))\n",
    "        time.sleep(timeout_time)\n",
    "# Get KeyFrame Image Byte String From Video Indexer\n",
    "img_str = vi.get_thumbnail_from_video_indexer(video_id, keyframe)\n",
    "# Convert Byte Stream to Image Stream\n",
    "img_stream = io.BytesIO(img_str)\n",
    "# Analyze with Azure Computer Vision\n",
    "cv_results = computervision_client.analyze_image_in_stream(img_stream, image_features)\n",
    "print(\"Detecting brands in keyframe {}: \".format(keyframe))\n",
    "if len(cv_results.brands) == 0:\n",
    "    print(\"No brands detected.\")\n",
    "else:\n",
    "    for brand in cv_results.brands:\n",
    "        print(\"'{}' brand detected with confidence {:.1f}% at location {}, {}, {}, {}\".format( brand.name, brand.confidence * 100, brand.rectangle.x, brand.rectangle.x + brand.rectangle.w, brand.rectangle.y, brand.rectangle.y + brand.rectangle.h))"
   ]
  },
  {
   "source": [
    " Key Frames to Azure Custom Vision API to Custom Detect Brands¶\n"
   ],
   "cell_type": "markdown",
   "metadata": {}
  },
  {
   "cell_type": "code",
   "execution_count": null,
   "metadata": {},
   "outputs": [],
   "source": [
    "!pip install azure-cognitiveservices-vision-customvision\n"
   ]
  },
  {
   "source": [
    "INITIALIZE CUSTOM VISION CLIENT"
   ],
   "cell_type": "markdown",
   "metadata": {}
  },
  {
   "cell_type": "code",
   "execution_count": null,
   "metadata": {},
   "outputs": [],
   "source": [
    "from azure.cognitiveservices.vision.customvision.prediction import CustomVisionPredictionClient\n",
    "from msrest.authentication import ApiKeyCredentials\n",
    "prediction_threshold = .8\n",
    "prediction_key =  \"ee27e51576d049fdb0d180bb91f1fa89\"\n",
    "ENDPOINT = \"https://cvtestayo-prediction.cognitiveservices.azure.com/\"\n",
    "project_id = \"a6161fd5-c077-45f6-987f-0b486aa07557\"\n",
    "published_name = \"Iteration1\"\n",
    "credentials = ApiKeyCredentials(in_headers={\"Prediction-key\": prediction_key})\n",
    "predictor = CustomVisionPredictionClient(endpoint=ENDPOINT, credentials=credentials)"
   ]
  },
  {
   "source": [
    "PREDICT KEYFRAMES WITH CUSTOM VISION MODEL"
   ],
   "cell_type": "markdown",
   "metadata": {}
  },
  {
   "cell_type": "code",
   "execution_count": null,
   "metadata": {},
   "outputs": [],
   "source": [
    "\n",
    "import time\n",
    "timeout_interval, timeout_time = 5, 10.0\n",
    "image_features = [\"brands\"]\n",
    "\n",
    "for index, keyframe in enumerate(keyframes):\n",
    "    if index % timeout_interval == 0:\n",
    "        print(\"Trying to prevent exceeding request limit waiting {} seconds\".format(timeout_time))\n",
    "        time.sleep(timeout_time)\n",
    "    # Get KeyFrame Image Byte String From Video Indexer\n",
    "    img_str = vi.get_thumbnail_from_video_indexer(video_id, keyframe)\n",
    "    # Convert Byte Stream to Image Stream\n",
    "    img_stream = io.BytesIO(img_str)  \n",
    "    # Analyze with Azure Computer Vision\n",
    "    cv_results = predictor.detect_image(project_id, published_name, img_stream)\n",
    "    predictions = [pred for pred in cv_results.predictions if pred.probability > prediction_threshold]\n",
    "    print(\"Detecting brands in keyframe {}: \".format(keyframe))\n",
    "    if len(predictions) == 0:\n",
    "        print(\"No custom brands detected.\")\n",
    "    else:\n",
    "        for brand in predictions:\n",
    "            print(\"'{}' brand detected with confidence {:.1f}% at location {}, {}, {}, {}\".format( \\\n",
    "                brand.tag_name, brand.probability * 100, brand.bounding_box.left, brand.bounding_box.top, \\\n",
    "                brand.bounding_box.width, brand.bounding_box.height))"
   ]
  },
  {
   "cell_type": "code",
   "execution_count": null,
   "metadata": {},
   "outputs": [],
   "source": []
  }
 ]
}