{
 "metadata": {
  "language_info": {
   "codemirror_mode": {
    "name": "ipython",
    "version": 3
   },
   "file_extension": ".py",
   "mimetype": "text/x-python",
   "name": "python",
   "nbconvert_exporter": "python",
   "pygments_lexer": "ipython3",
   "version": "3.7.9-final"
  },
  "orig_nbformat": 2,
  "kernelspec": {
   "name": "python3",
   "display_name": "Python 3.7.9 64-bit ('clayvideo')",
   "metadata": {
    "interpreter": {
     "hash": "ba98349a6ea5ffd30d102c48cd11c1df54681fdedf8477739102946494729da5"
    }
   }
  }
 },
 "nbformat": 4,
 "nbformat_minor": 2,
 "cells": [
  {
   "source": [
    "INSTALL PYTUBE"
   ],
   "cell_type": "markdown",
   "metadata": {}
  },
  {
   "cell_type": "code",
   "execution_count": 1,
   "metadata": {},
   "outputs": [
    {
     "output_type": "stream",
     "name": "stdout",
     "text": [
      "Collecting git+https://github.com/pytube/pytube\n",
      "  Cloning https://github.com/pytube/pytube to c:\\users\\ayool\\appdata\\local\\temp\\pip-req-build-2aumvzje\n",
      "Requirement already satisfied: typing_extensions in c:\\users\\ayool\\desktop\\videoindexingproject\\clayvideo\\lib\\site-packages (from pytube==10.5.1) (3.7.4.3)\n",
      "  Running command git clone -q https://github.com/pytube/pytube 'C:\\Users\\ayool\\AppData\\Local\\Temp\\pip-req-build-2aumvzje'\n"
     ]
    }
   ],
   "source": [
    "\n",
    "## Install pyTube3 https://github.com/nficano/pytube\n",
    "!pip install git+https://github.com/pytube/pytube\n"
   ]
  },
  {
   "cell_type": "code",
   "execution_count": 2,
   "metadata": {},
   "outputs": [],
   "source": [
    "\n",
    "#importing the module \n",
    "from pathlib import Path\n",
    "from pytube import YouTube\n",
    "video2Index = YouTube('https://www.youtube.com/watch?v=ijtKxXiS4hE').streams.first().download()\n",
    "video_name = Path(video2Index).stem\n",
    "\n"
   ]
  },
  {
   "source": [
    "CREATE AN AZURE VIDEO INDEXER INSTANCE"
   ],
   "cell_type": "markdown",
   "metadata": {}
  },
  {
   "cell_type": "code",
   "execution_count": 3,
   "metadata": {},
   "outputs": [
    {
     "output_type": "stream",
     "name": "stdout",
     "text": [
      "Requirement already satisfied: video-indexer in c:\\users\\ayool\\desktop\\videoindexingproject\\clayvideo\\lib\\site-packages (0.1.8)\nRequirement already satisfied: requests in c:\\users\\ayool\\desktop\\videoindexingproject\\clayvideo\\lib\\site-packages (from video-indexer) (2.25.1)\nRequirement already satisfied: urllib3<1.27,>=1.21.1 in c:\\users\\ayool\\desktop\\videoindexingproject\\clayvideo\\lib\\site-packages (from requests->video-indexer) (1.26.3)\nRequirement already satisfied: certifi>=2017.4.17 in c:\\users\\ayool\\desktop\\videoindexingproject\\clayvideo\\lib\\site-packages (from requests->video-indexer) (2020.12.5)\nRequirement already satisfied: idna<3,>=2.5 in c:\\users\\ayool\\desktop\\videoindexingproject\\clayvideo\\lib\\site-packages (from requests->video-indexer) (2.10)\nRequirement already satisfied: chardet<5,>=3.0.2 in c:\\users\\ayool\\desktop\\videoindexingproject\\clayvideo\\lib\\site-packages (from requests->video-indexer) (4.0.0)\nNote: you may need to restart the kernel to use updated packages.\n"
     ]
    }
   ],
   "source": [
    "pip install video-indexer"
   ]
  },
  {
   "source": [
    "INITIALIZE CLIENT"
   ],
   "cell_type": "markdown",
   "metadata": {}
  },
  {
   "cell_type": "code",
   "execution_count": 6,
   "metadata": {},
   "outputs": [],
   "source": [
    "from video_indexer import VideoIndexer\n",
    "\n",
    "vi = VideoIndexer(vi_subscription_key='5e7d57663db14ee58a06385263836438',\n",
    "                  vi_location='trial',\n",
    "                  vi_account_id='b8f7e815-9386-40e3-a527-2a6743630cef')"
   ]
  },
  {
   "source": [
    "UPLOAD VIDEO"
   ],
   "cell_type": "markdown",
   "metadata": {}
  },
  {
   "cell_type": "code",
   "execution_count": 7,
   "metadata": {},
   "outputs": [
    {
     "output_type": "stream",
     "name": "stdout",
     "text": [
      "Getting video indexer access token...\n"
     ]
    },
    {
     "output_type": "error",
     "ename": "SSLError",
     "evalue": "HTTPSConnectionPool(host='api.videoindexer.ai', port=443): Max retries exceeded with url: /auth/trial/Accounts/b8f7e815-9386-40e3-a527-2a6743630cef/AccessToken?allowEdit=true (Caused by SSLError(SSLError(1, '[SSL: WRONG_VERSION_NUMBER] wrong version number (_ssl.c:1091)')))",
     "traceback": [
      "\u001b[1;31m---------------------------------------------------------------------------\u001b[0m",
      "\u001b[1;31mSSLError\u001b[0m                                  Traceback (most recent call last)",
      "\u001b[1;32mc:\\Users\\ayool\\Desktop\\VideoIndexingproject\\clayvideo\\lib\\site-packages\\urllib3\\connectionpool.py\u001b[0m in \u001b[0;36murlopen\u001b[1;34m(self, method, url, body, headers, retries, redirect, assert_same_host, timeout, pool_timeout, release_conn, chunked, body_pos, **response_kw)\u001b[0m\n\u001b[0;32m    695\u001b[0m             \u001b[1;32mif\u001b[0m \u001b[0mis_new_proxy_conn\u001b[0m \u001b[1;32mand\u001b[0m \u001b[0mhttp_tunnel_required\u001b[0m\u001b[1;33m:\u001b[0m\u001b[1;33m\u001b[0m\u001b[1;33m\u001b[0m\u001b[0m\n\u001b[1;32m--> 696\u001b[1;33m                 \u001b[0mself\u001b[0m\u001b[1;33m.\u001b[0m\u001b[0m_prepare_proxy\u001b[0m\u001b[1;33m(\u001b[0m\u001b[0mconn\u001b[0m\u001b[1;33m)\u001b[0m\u001b[1;33m\u001b[0m\u001b[1;33m\u001b[0m\u001b[0m\n\u001b[0m\u001b[0;32m    697\u001b[0m \u001b[1;33m\u001b[0m\u001b[0m\n",
      "\u001b[1;32mc:\\Users\\ayool\\Desktop\\VideoIndexingproject\\clayvideo\\lib\\site-packages\\urllib3\\connectionpool.py\u001b[0m in \u001b[0;36m_prepare_proxy\u001b[1;34m(self, conn)\u001b[0m\n\u001b[0;32m    963\u001b[0m \u001b[1;33m\u001b[0m\u001b[0m\n\u001b[1;32m--> 964\u001b[1;33m         \u001b[0mconn\u001b[0m\u001b[1;33m.\u001b[0m\u001b[0mconnect\u001b[0m\u001b[1;33m(\u001b[0m\u001b[1;33m)\u001b[0m\u001b[1;33m\u001b[0m\u001b[1;33m\u001b[0m\u001b[0m\n\u001b[0m\u001b[0;32m    965\u001b[0m \u001b[1;33m\u001b[0m\u001b[0m\n",
      "\u001b[1;32mc:\\Users\\ayool\\Desktop\\VideoIndexingproject\\clayvideo\\lib\\site-packages\\urllib3\\connection.py\u001b[0m in \u001b[0;36mconnect\u001b[1;34m(self)\u001b[0m\n\u001b[0;32m    358\u001b[0m             \u001b[1;32mif\u001b[0m \u001b[0mself\u001b[0m\u001b[1;33m.\u001b[0m\u001b[0mtls_in_tls_required\u001b[0m\u001b[1;33m:\u001b[0m\u001b[1;33m\u001b[0m\u001b[1;33m\u001b[0m\u001b[0m\n\u001b[1;32m--> 359\u001b[1;33m                 \u001b[0mconn\u001b[0m \u001b[1;33m=\u001b[0m \u001b[0mself\u001b[0m\u001b[1;33m.\u001b[0m\u001b[0m_connect_tls_proxy\u001b[0m\u001b[1;33m(\u001b[0m\u001b[0mhostname\u001b[0m\u001b[1;33m,\u001b[0m \u001b[0mconn\u001b[0m\u001b[1;33m)\u001b[0m\u001b[1;33m\u001b[0m\u001b[1;33m\u001b[0m\u001b[0m\n\u001b[0m\u001b[0;32m    360\u001b[0m                 \u001b[0mtls_in_tls\u001b[0m \u001b[1;33m=\u001b[0m \u001b[1;32mTrue\u001b[0m\u001b[1;33m\u001b[0m\u001b[1;33m\u001b[0m\u001b[0m\n",
      "\u001b[1;32mc:\\Users\\ayool\\Desktop\\VideoIndexingproject\\clayvideo\\lib\\site-packages\\urllib3\\connection.py\u001b[0m in \u001b[0;36m_connect_tls_proxy\u001b[1;34m(self, hostname, conn)\u001b[0m\n\u001b[0;32m    501\u001b[0m             \u001b[0mserver_hostname\u001b[0m\u001b[1;33m=\u001b[0m\u001b[0mhostname\u001b[0m\u001b[1;33m,\u001b[0m\u001b[1;33m\u001b[0m\u001b[1;33m\u001b[0m\u001b[0m\n\u001b[1;32m--> 502\u001b[1;33m             \u001b[0mssl_context\u001b[0m\u001b[1;33m=\u001b[0m\u001b[0mssl_context\u001b[0m\u001b[1;33m,\u001b[0m\u001b[1;33m\u001b[0m\u001b[1;33m\u001b[0m\u001b[0m\n\u001b[0m\u001b[0;32m    503\u001b[0m         )\n",
      "\u001b[1;32mc:\\Users\\ayool\\Desktop\\VideoIndexingproject\\clayvideo\\lib\\site-packages\\urllib3\\util\\ssl_.py\u001b[0m in \u001b[0;36mssl_wrap_socket\u001b[1;34m(sock, keyfile, certfile, cert_reqs, ca_certs, server_hostname, ssl_version, ciphers, ssl_context, ca_cert_dir, key_password, ca_cert_data, tls_in_tls)\u001b[0m\n\u001b[0;32m    431\u001b[0m     \u001b[1;32melse\u001b[0m\u001b[1;33m:\u001b[0m\u001b[1;33m\u001b[0m\u001b[1;33m\u001b[0m\u001b[0m\n\u001b[1;32m--> 432\u001b[1;33m         \u001b[0mssl_sock\u001b[0m \u001b[1;33m=\u001b[0m \u001b[0m_ssl_wrap_socket_impl\u001b[0m\u001b[1;33m(\u001b[0m\u001b[0msock\u001b[0m\u001b[1;33m,\u001b[0m \u001b[0mcontext\u001b[0m\u001b[1;33m,\u001b[0m \u001b[0mtls_in_tls\u001b[0m\u001b[1;33m)\u001b[0m\u001b[1;33m\u001b[0m\u001b[1;33m\u001b[0m\u001b[0m\n\u001b[0m\u001b[0;32m    433\u001b[0m     \u001b[1;32mreturn\u001b[0m \u001b[0mssl_sock\u001b[0m\u001b[1;33m\u001b[0m\u001b[1;33m\u001b[0m\u001b[0m\n",
      "\u001b[1;32mc:\\Users\\ayool\\Desktop\\VideoIndexingproject\\clayvideo\\lib\\site-packages\\urllib3\\util\\ssl_.py\u001b[0m in \u001b[0;36m_ssl_wrap_socket_impl\u001b[1;34m(sock, ssl_context, tls_in_tls, server_hostname)\u001b[0m\n\u001b[0;32m    473\u001b[0m     \u001b[1;32melse\u001b[0m\u001b[1;33m:\u001b[0m\u001b[1;33m\u001b[0m\u001b[1;33m\u001b[0m\u001b[0m\n\u001b[1;32m--> 474\u001b[1;33m         \u001b[1;32mreturn\u001b[0m \u001b[0mssl_context\u001b[0m\u001b[1;33m.\u001b[0m\u001b[0mwrap_socket\u001b[0m\u001b[1;33m(\u001b[0m\u001b[0msock\u001b[0m\u001b[1;33m)\u001b[0m\u001b[1;33m\u001b[0m\u001b[1;33m\u001b[0m\u001b[0m\n\u001b[0m",
      "\u001b[1;32m~\\AppData\\Local\\Programs\\Python\\Python37\\lib\\ssl.py\u001b[0m in \u001b[0;36mwrap_socket\u001b[1;34m(self, sock, server_side, do_handshake_on_connect, suppress_ragged_eofs, server_hostname, session)\u001b[0m\n\u001b[0;32m    422\u001b[0m             \u001b[0mcontext\u001b[0m\u001b[1;33m=\u001b[0m\u001b[0mself\u001b[0m\u001b[1;33m,\u001b[0m\u001b[1;33m\u001b[0m\u001b[1;33m\u001b[0m\u001b[0m\n\u001b[1;32m--> 423\u001b[1;33m             \u001b[0msession\u001b[0m\u001b[1;33m=\u001b[0m\u001b[0msession\u001b[0m\u001b[1;33m\u001b[0m\u001b[1;33m\u001b[0m\u001b[0m\n\u001b[0m\u001b[0;32m    424\u001b[0m         )\n",
      "\u001b[1;32m~\\AppData\\Local\\Programs\\Python\\Python37\\lib\\ssl.py\u001b[0m in \u001b[0;36m_create\u001b[1;34m(cls, sock, server_side, do_handshake_on_connect, suppress_ragged_eofs, server_hostname, context, session)\u001b[0m\n\u001b[0;32m    869\u001b[0m                         \u001b[1;32mraise\u001b[0m \u001b[0mValueError\u001b[0m\u001b[1;33m(\u001b[0m\u001b[1;34m\"do_handshake_on_connect should not be specified for non-blocking sockets\"\u001b[0m\u001b[1;33m)\u001b[0m\u001b[1;33m\u001b[0m\u001b[1;33m\u001b[0m\u001b[0m\n\u001b[1;32m--> 870\u001b[1;33m                     \u001b[0mself\u001b[0m\u001b[1;33m.\u001b[0m\u001b[0mdo_handshake\u001b[0m\u001b[1;33m(\u001b[0m\u001b[1;33m)\u001b[0m\u001b[1;33m\u001b[0m\u001b[1;33m\u001b[0m\u001b[0m\n\u001b[0m\u001b[0;32m    871\u001b[0m             \u001b[1;32mexcept\u001b[0m \u001b[1;33m(\u001b[0m\u001b[0mOSError\u001b[0m\u001b[1;33m,\u001b[0m \u001b[0mValueError\u001b[0m\u001b[1;33m)\u001b[0m\u001b[1;33m:\u001b[0m\u001b[1;33m\u001b[0m\u001b[1;33m\u001b[0m\u001b[0m\n",
      "\u001b[1;32m~\\AppData\\Local\\Programs\\Python\\Python37\\lib\\ssl.py\u001b[0m in \u001b[0;36mdo_handshake\u001b[1;34m(self, block)\u001b[0m\n\u001b[0;32m   1138\u001b[0m                 \u001b[0mself\u001b[0m\u001b[1;33m.\u001b[0m\u001b[0msettimeout\u001b[0m\u001b[1;33m(\u001b[0m\u001b[1;32mNone\u001b[0m\u001b[1;33m)\u001b[0m\u001b[1;33m\u001b[0m\u001b[1;33m\u001b[0m\u001b[0m\n\u001b[1;32m-> 1139\u001b[1;33m             \u001b[0mself\u001b[0m\u001b[1;33m.\u001b[0m\u001b[0m_sslobj\u001b[0m\u001b[1;33m.\u001b[0m\u001b[0mdo_handshake\u001b[0m\u001b[1;33m(\u001b[0m\u001b[1;33m)\u001b[0m\u001b[1;33m\u001b[0m\u001b[1;33m\u001b[0m\u001b[0m\n\u001b[0m\u001b[0;32m   1140\u001b[0m         \u001b[1;32mfinally\u001b[0m\u001b[1;33m:\u001b[0m\u001b[1;33m\u001b[0m\u001b[1;33m\u001b[0m\u001b[0m\n",
      "\u001b[1;31mSSLError\u001b[0m: [SSL: WRONG_VERSION_NUMBER] wrong version number (_ssl.c:1091)",
      "\nDuring handling of the above exception, another exception occurred:\n",
      "\u001b[1;31mMaxRetryError\u001b[0m                             Traceback (most recent call last)",
      "\u001b[1;32mc:\\Users\\ayool\\Desktop\\VideoIndexingproject\\clayvideo\\lib\\site-packages\\requests\\adapters.py\u001b[0m in \u001b[0;36msend\u001b[1;34m(self, request, stream, timeout, verify, cert, proxies)\u001b[0m\n\u001b[0;32m    448\u001b[0m                     \u001b[0mretries\u001b[0m\u001b[1;33m=\u001b[0m\u001b[0mself\u001b[0m\u001b[1;33m.\u001b[0m\u001b[0mmax_retries\u001b[0m\u001b[1;33m,\u001b[0m\u001b[1;33m\u001b[0m\u001b[1;33m\u001b[0m\u001b[0m\n\u001b[1;32m--> 449\u001b[1;33m                     \u001b[0mtimeout\u001b[0m\u001b[1;33m=\u001b[0m\u001b[0mtimeout\u001b[0m\u001b[1;33m\u001b[0m\u001b[1;33m\u001b[0m\u001b[0m\n\u001b[0m\u001b[0;32m    450\u001b[0m                 )\n",
      "\u001b[1;32mc:\\Users\\ayool\\Desktop\\VideoIndexingproject\\clayvideo\\lib\\site-packages\\urllib3\\connectionpool.py\u001b[0m in \u001b[0;36murlopen\u001b[1;34m(self, method, url, body, headers, retries, redirect, assert_same_host, timeout, pool_timeout, release_conn, chunked, body_pos, **response_kw)\u001b[0m\n\u001b[0;32m    755\u001b[0m             retries = retries.increment(\n\u001b[1;32m--> 756\u001b[1;33m                 \u001b[0mmethod\u001b[0m\u001b[1;33m,\u001b[0m \u001b[0murl\u001b[0m\u001b[1;33m,\u001b[0m \u001b[0merror\u001b[0m\u001b[1;33m=\u001b[0m\u001b[0me\u001b[0m\u001b[1;33m,\u001b[0m \u001b[0m_pool\u001b[0m\u001b[1;33m=\u001b[0m\u001b[0mself\u001b[0m\u001b[1;33m,\u001b[0m \u001b[0m_stacktrace\u001b[0m\u001b[1;33m=\u001b[0m\u001b[0msys\u001b[0m\u001b[1;33m.\u001b[0m\u001b[0mexc_info\u001b[0m\u001b[1;33m(\u001b[0m\u001b[1;33m)\u001b[0m\u001b[1;33m[\u001b[0m\u001b[1;36m2\u001b[0m\u001b[1;33m]\u001b[0m\u001b[1;33m\u001b[0m\u001b[1;33m\u001b[0m\u001b[0m\n\u001b[0m\u001b[0;32m    757\u001b[0m             )\n",
      "\u001b[1;32mc:\\Users\\ayool\\Desktop\\VideoIndexingproject\\clayvideo\\lib\\site-packages\\urllib3\\util\\retry.py\u001b[0m in \u001b[0;36mincrement\u001b[1;34m(self, method, url, response, error, _pool, _stacktrace)\u001b[0m\n\u001b[0;32m    572\u001b[0m         \u001b[1;32mif\u001b[0m \u001b[0mnew_retry\u001b[0m\u001b[1;33m.\u001b[0m\u001b[0mis_exhausted\u001b[0m\u001b[1;33m(\u001b[0m\u001b[1;33m)\u001b[0m\u001b[1;33m:\u001b[0m\u001b[1;33m\u001b[0m\u001b[1;33m\u001b[0m\u001b[0m\n\u001b[1;32m--> 573\u001b[1;33m             \u001b[1;32mraise\u001b[0m \u001b[0mMaxRetryError\u001b[0m\u001b[1;33m(\u001b[0m\u001b[0m_pool\u001b[0m\u001b[1;33m,\u001b[0m \u001b[0murl\u001b[0m\u001b[1;33m,\u001b[0m \u001b[0merror\u001b[0m \u001b[1;32mor\u001b[0m \u001b[0mResponseError\u001b[0m\u001b[1;33m(\u001b[0m\u001b[0mcause\u001b[0m\u001b[1;33m)\u001b[0m\u001b[1;33m)\u001b[0m\u001b[1;33m\u001b[0m\u001b[1;33m\u001b[0m\u001b[0m\n\u001b[0m\u001b[0;32m    574\u001b[0m \u001b[1;33m\u001b[0m\u001b[0m\n",
      "\u001b[1;31mMaxRetryError\u001b[0m: HTTPSConnectionPool(host='api.videoindexer.ai', port=443): Max retries exceeded with url: /auth/trial/Accounts/b8f7e815-9386-40e3-a527-2a6743630cef/AccessToken?allowEdit=true (Caused by SSLError(SSLError(1, '[SSL: WRONG_VERSION_NUMBER] wrong version number (_ssl.c:1091)')))",
      "\nDuring handling of the above exception, another exception occurred:\n",
      "\u001b[1;31mSSLError\u001b[0m                                  Traceback (most recent call last)",
      "\u001b[1;32m<ipython-input-7-25335b74df5c>\u001b[0m in \u001b[0;36m<module>\u001b[1;34m\u001b[0m\n\u001b[0;32m      2\u001b[0m               \u001b[0minput_filename\u001b[0m \u001b[1;33m=\u001b[0m \u001b[0mvideo2Index\u001b[0m\u001b[1;33m,\u001b[0m\u001b[1;33m\u001b[0m\u001b[1;33m\u001b[0m\u001b[0m\n\u001b[0;32m      3\u001b[0m               \u001b[0mvideo_name\u001b[0m\u001b[1;33m=\u001b[0m\u001b[0mvideo_name\u001b[0m\u001b[1;33m,\u001b[0m \u001b[1;31m#must be unique\u001b[0m\u001b[1;33m\u001b[0m\u001b[1;33m\u001b[0m\u001b[0m\n\u001b[1;32m----> 4\u001b[1;33m               video_language='English')\n\u001b[0m",
      "\u001b[1;32mc:\\Users\\ayool\\Desktop\\VideoIndexingproject\\clayvideo\\lib\\site-packages\\video_indexer\\main.py\u001b[0m in \u001b[0;36mupload_to_video_indexer\u001b[1;34m(self, input_filename, video_name, video_language, streaming_preset, indexing_preset)\u001b[0m\n\u001b[0;32m     50\u001b[0m         \u001b[0mvideo_language\u001b[0m\u001b[1;33m=\u001b[0m\u001b[1;34m'English'\u001b[0m\u001b[1;33m,\u001b[0m \u001b[0mstreaming_preset\u001b[0m\u001b[1;33m=\u001b[0m\u001b[1;34m'Default'\u001b[0m\u001b[1;33m,\u001b[0m \u001b[0mindexing_preset\u001b[0m\u001b[1;33m=\u001b[0m\u001b[1;34m'Default'\u001b[0m\u001b[1;33m\u001b[0m\u001b[1;33m\u001b[0m\u001b[0m\n\u001b[0;32m     51\u001b[0m     ):\n\u001b[1;32m---> 52\u001b[1;33m         \u001b[0mself\u001b[0m\u001b[1;33m.\u001b[0m\u001b[0mcheck_access_token\u001b[0m\u001b[1;33m(\u001b[0m\u001b[1;33m)\u001b[0m\u001b[1;33m\u001b[0m\u001b[1;33m\u001b[0m\u001b[0m\n\u001b[0m\u001b[0;32m     53\u001b[0m \u001b[1;33m\u001b[0m\u001b[0m\n\u001b[0;32m     54\u001b[0m         \u001b[0mprint\u001b[0m\u001b[1;33m(\u001b[0m\u001b[1;34m'Uploading video to video indexer...'\u001b[0m\u001b[1;33m)\u001b[0m\u001b[1;33m\u001b[0m\u001b[1;33m\u001b[0m\u001b[0m\n",
      "\u001b[1;32mc:\\Users\\ayool\\Desktop\\VideoIndexingproject\\clayvideo\\lib\\site-packages\\video_indexer\\main.py\u001b[0m in \u001b[0;36mcheck_access_token\u001b[1;34m(self)\u001b[0m\n\u001b[0;32m     44\u001b[0m     \u001b[1;32mdef\u001b[0m \u001b[0mcheck_access_token\u001b[0m\u001b[1;33m(\u001b[0m\u001b[0mself\u001b[0m\u001b[1;33m)\u001b[0m\u001b[1;33m:\u001b[0m\u001b[1;33m\u001b[0m\u001b[1;33m\u001b[0m\u001b[0m\n\u001b[0;32m     45\u001b[0m         \u001b[1;32mif\u001b[0m \u001b[1;32mnot\u001b[0m \u001b[0mself\u001b[0m\u001b[1;33m.\u001b[0m\u001b[0maccess_token\u001b[0m\u001b[1;33m:\u001b[0m\u001b[1;33m\u001b[0m\u001b[1;33m\u001b[0m\u001b[0m\n\u001b[1;32m---> 46\u001b[1;33m             \u001b[0mself\u001b[0m\u001b[1;33m.\u001b[0m\u001b[0mget_access_token\u001b[0m\u001b[1;33m(\u001b[0m\u001b[1;33m)\u001b[0m\u001b[1;33m\u001b[0m\u001b[1;33m\u001b[0m\u001b[0m\n\u001b[0m\u001b[0;32m     47\u001b[0m \u001b[1;33m\u001b[0m\u001b[0m\n\u001b[0;32m     48\u001b[0m     def upload_to_video_indexer(\n",
      "\u001b[1;32mc:\\Users\\ayool\\Desktop\\VideoIndexingproject\\clayvideo\\lib\\site-packages\\video_indexer\\main.py\u001b[0m in \u001b[0;36mget_access_token\u001b[1;34m(self)\u001b[0m\n\u001b[0;32m     34\u001b[0m             ),\n\u001b[0;32m     35\u001b[0m             \u001b[0mparams\u001b[0m\u001b[1;33m=\u001b[0m\u001b[0mparams\u001b[0m\u001b[1;33m,\u001b[0m\u001b[1;33m\u001b[0m\u001b[1;33m\u001b[0m\u001b[0m\n\u001b[1;32m---> 36\u001b[1;33m             \u001b[0mheaders\u001b[0m\u001b[1;33m=\u001b[0m\u001b[0mheaders\u001b[0m\u001b[1;33m\u001b[0m\u001b[1;33m\u001b[0m\u001b[0m\n\u001b[0m\u001b[0;32m     37\u001b[0m         )\n\u001b[0;32m     38\u001b[0m \u001b[1;33m\u001b[0m\u001b[0m\n",
      "\u001b[1;32mc:\\Users\\ayool\\Desktop\\VideoIndexingproject\\clayvideo\\lib\\site-packages\\requests\\api.py\u001b[0m in \u001b[0;36mget\u001b[1;34m(url, params, **kwargs)\u001b[0m\n\u001b[0;32m     74\u001b[0m \u001b[1;33m\u001b[0m\u001b[0m\n\u001b[0;32m     75\u001b[0m     \u001b[0mkwargs\u001b[0m\u001b[1;33m.\u001b[0m\u001b[0msetdefault\u001b[0m\u001b[1;33m(\u001b[0m\u001b[1;34m'allow_redirects'\u001b[0m\u001b[1;33m,\u001b[0m \u001b[1;32mTrue\u001b[0m\u001b[1;33m)\u001b[0m\u001b[1;33m\u001b[0m\u001b[1;33m\u001b[0m\u001b[0m\n\u001b[1;32m---> 76\u001b[1;33m     \u001b[1;32mreturn\u001b[0m \u001b[0mrequest\u001b[0m\u001b[1;33m(\u001b[0m\u001b[1;34m'get'\u001b[0m\u001b[1;33m,\u001b[0m \u001b[0murl\u001b[0m\u001b[1;33m,\u001b[0m \u001b[0mparams\u001b[0m\u001b[1;33m=\u001b[0m\u001b[0mparams\u001b[0m\u001b[1;33m,\u001b[0m \u001b[1;33m**\u001b[0m\u001b[0mkwargs\u001b[0m\u001b[1;33m)\u001b[0m\u001b[1;33m\u001b[0m\u001b[1;33m\u001b[0m\u001b[0m\n\u001b[0m\u001b[0;32m     77\u001b[0m \u001b[1;33m\u001b[0m\u001b[0m\n\u001b[0;32m     78\u001b[0m \u001b[1;33m\u001b[0m\u001b[0m\n",
      "\u001b[1;32mc:\\Users\\ayool\\Desktop\\VideoIndexingproject\\clayvideo\\lib\\site-packages\\requests\\api.py\u001b[0m in \u001b[0;36mrequest\u001b[1;34m(method, url, **kwargs)\u001b[0m\n\u001b[0;32m     59\u001b[0m     \u001b[1;31m# cases, and look like a memory leak in others.\u001b[0m\u001b[1;33m\u001b[0m\u001b[1;33m\u001b[0m\u001b[1;33m\u001b[0m\u001b[0m\n\u001b[0;32m     60\u001b[0m     \u001b[1;32mwith\u001b[0m \u001b[0msessions\u001b[0m\u001b[1;33m.\u001b[0m\u001b[0mSession\u001b[0m\u001b[1;33m(\u001b[0m\u001b[1;33m)\u001b[0m \u001b[1;32mas\u001b[0m \u001b[0msession\u001b[0m\u001b[1;33m:\u001b[0m\u001b[1;33m\u001b[0m\u001b[1;33m\u001b[0m\u001b[0m\n\u001b[1;32m---> 61\u001b[1;33m         \u001b[1;32mreturn\u001b[0m \u001b[0msession\u001b[0m\u001b[1;33m.\u001b[0m\u001b[0mrequest\u001b[0m\u001b[1;33m(\u001b[0m\u001b[0mmethod\u001b[0m\u001b[1;33m=\u001b[0m\u001b[0mmethod\u001b[0m\u001b[1;33m,\u001b[0m \u001b[0murl\u001b[0m\u001b[1;33m=\u001b[0m\u001b[0murl\u001b[0m\u001b[1;33m,\u001b[0m \u001b[1;33m**\u001b[0m\u001b[0mkwargs\u001b[0m\u001b[1;33m)\u001b[0m\u001b[1;33m\u001b[0m\u001b[1;33m\u001b[0m\u001b[0m\n\u001b[0m\u001b[0;32m     62\u001b[0m \u001b[1;33m\u001b[0m\u001b[0m\n\u001b[0;32m     63\u001b[0m \u001b[1;33m\u001b[0m\u001b[0m\n",
      "\u001b[1;32mc:\\Users\\ayool\\Desktop\\VideoIndexingproject\\clayvideo\\lib\\site-packages\\requests\\sessions.py\u001b[0m in \u001b[0;36mrequest\u001b[1;34m(self, method, url, params, data, headers, cookies, files, auth, timeout, allow_redirects, proxies, hooks, stream, verify, cert, json)\u001b[0m\n\u001b[0;32m    540\u001b[0m         }\n\u001b[0;32m    541\u001b[0m         \u001b[0msend_kwargs\u001b[0m\u001b[1;33m.\u001b[0m\u001b[0mupdate\u001b[0m\u001b[1;33m(\u001b[0m\u001b[0msettings\u001b[0m\u001b[1;33m)\u001b[0m\u001b[1;33m\u001b[0m\u001b[1;33m\u001b[0m\u001b[0m\n\u001b[1;32m--> 542\u001b[1;33m         \u001b[0mresp\u001b[0m \u001b[1;33m=\u001b[0m \u001b[0mself\u001b[0m\u001b[1;33m.\u001b[0m\u001b[0msend\u001b[0m\u001b[1;33m(\u001b[0m\u001b[0mprep\u001b[0m\u001b[1;33m,\u001b[0m \u001b[1;33m**\u001b[0m\u001b[0msend_kwargs\u001b[0m\u001b[1;33m)\u001b[0m\u001b[1;33m\u001b[0m\u001b[1;33m\u001b[0m\u001b[0m\n\u001b[0m\u001b[0;32m    543\u001b[0m \u001b[1;33m\u001b[0m\u001b[0m\n\u001b[0;32m    544\u001b[0m         \u001b[1;32mreturn\u001b[0m \u001b[0mresp\u001b[0m\u001b[1;33m\u001b[0m\u001b[1;33m\u001b[0m\u001b[0m\n",
      "\u001b[1;32mc:\\Users\\ayool\\Desktop\\VideoIndexingproject\\clayvideo\\lib\\site-packages\\requests\\sessions.py\u001b[0m in \u001b[0;36msend\u001b[1;34m(self, request, **kwargs)\u001b[0m\n\u001b[0;32m    653\u001b[0m \u001b[1;33m\u001b[0m\u001b[0m\n\u001b[0;32m    654\u001b[0m         \u001b[1;31m# Send the request\u001b[0m\u001b[1;33m\u001b[0m\u001b[1;33m\u001b[0m\u001b[1;33m\u001b[0m\u001b[0m\n\u001b[1;32m--> 655\u001b[1;33m         \u001b[0mr\u001b[0m \u001b[1;33m=\u001b[0m \u001b[0madapter\u001b[0m\u001b[1;33m.\u001b[0m\u001b[0msend\u001b[0m\u001b[1;33m(\u001b[0m\u001b[0mrequest\u001b[0m\u001b[1;33m,\u001b[0m \u001b[1;33m**\u001b[0m\u001b[0mkwargs\u001b[0m\u001b[1;33m)\u001b[0m\u001b[1;33m\u001b[0m\u001b[1;33m\u001b[0m\u001b[0m\n\u001b[0m\u001b[0;32m    656\u001b[0m \u001b[1;33m\u001b[0m\u001b[0m\n\u001b[0;32m    657\u001b[0m         \u001b[1;31m# Total elapsed time of the request (approximately)\u001b[0m\u001b[1;33m\u001b[0m\u001b[1;33m\u001b[0m\u001b[1;33m\u001b[0m\u001b[0m\n",
      "\u001b[1;32mc:\\Users\\ayool\\Desktop\\VideoIndexingproject\\clayvideo\\lib\\site-packages\\requests\\adapters.py\u001b[0m in \u001b[0;36msend\u001b[1;34m(self, request, stream, timeout, verify, cert, proxies)\u001b[0m\n\u001b[0;32m    512\u001b[0m             \u001b[1;32mif\u001b[0m \u001b[0misinstance\u001b[0m\u001b[1;33m(\u001b[0m\u001b[0me\u001b[0m\u001b[1;33m.\u001b[0m\u001b[0mreason\u001b[0m\u001b[1;33m,\u001b[0m \u001b[0m_SSLError\u001b[0m\u001b[1;33m)\u001b[0m\u001b[1;33m:\u001b[0m\u001b[1;33m\u001b[0m\u001b[1;33m\u001b[0m\u001b[0m\n\u001b[0;32m    513\u001b[0m                 \u001b[1;31m# This branch is for urllib3 v1.22 and later.\u001b[0m\u001b[1;33m\u001b[0m\u001b[1;33m\u001b[0m\u001b[1;33m\u001b[0m\u001b[0m\n\u001b[1;32m--> 514\u001b[1;33m                 \u001b[1;32mraise\u001b[0m \u001b[0mSSLError\u001b[0m\u001b[1;33m(\u001b[0m\u001b[0me\u001b[0m\u001b[1;33m,\u001b[0m \u001b[0mrequest\u001b[0m\u001b[1;33m=\u001b[0m\u001b[0mrequest\u001b[0m\u001b[1;33m)\u001b[0m\u001b[1;33m\u001b[0m\u001b[1;33m\u001b[0m\u001b[0m\n\u001b[0m\u001b[0;32m    515\u001b[0m \u001b[1;33m\u001b[0m\u001b[0m\n\u001b[0;32m    516\u001b[0m             \u001b[1;32mraise\u001b[0m \u001b[0mConnectionError\u001b[0m\u001b[1;33m(\u001b[0m\u001b[0me\u001b[0m\u001b[1;33m,\u001b[0m \u001b[0mrequest\u001b[0m\u001b[1;33m=\u001b[0m\u001b[0mrequest\u001b[0m\u001b[1;33m)\u001b[0m\u001b[1;33m\u001b[0m\u001b[1;33m\u001b[0m\u001b[0m\n",
      "\u001b[1;31mSSLError\u001b[0m: HTTPSConnectionPool(host='api.videoindexer.ai', port=443): Max retries exceeded with url: /auth/trial/Accounts/b8f7e815-9386-40e3-a527-2a6743630cef/AccessToken?allowEdit=true (Caused by SSLError(SSLError(1, '[SSL: WRONG_VERSION_NUMBER] wrong version number (_ssl.c:1091)')))"
     ]
    }
   ],
   "source": [
    "video_id = vi.upload_to_video_indexer(\n",
    "              input_filename = video2Index,\n",
    "              video_name=video_name, #must be unique\n",
    "              video_language='English')"
   ]
  },
  {
   "source": [
    "GET VIDEO INFO"
   ],
   "cell_type": "markdown",
   "metadata": {}
  },
  {
   "cell_type": "code",
   "execution_count": 10,
   "metadata": {},
   "outputs": [
    {
     "output_type": "stream",
     "name": "stdout",
     "text": [
      "Getting video info for: 5cf2436441\n",
      "Video still processing, current status: 25%\n"
     ]
    }
   ],
   "source": [
    "info = vi.get_video_info(video_id, video_language='English')\n"
   ]
  },
  {
   "source": [
    "EXTRACT KEYFRAMES ID"
   ],
   "cell_type": "markdown",
   "metadata": {}
  },
  {
   "cell_type": "code",
   "execution_count": 46,
   "metadata": {},
   "outputs": [],
   "source": [
    "keyframes = []\n",
    "for shot in info[\"videos\"][0][\"insights\"][\"shots\"]:\n",
    "    for keyframe in shot[\"keyFrames\"]:\n",
    "        keyframes.append(keyframe[\"instances\"][0]['thumbnailId'])"
   ]
  },
  {
   "source": [
    "GET KEYFRAMES ID"
   ],
   "cell_type": "markdown",
   "metadata": {}
  },
  {
   "cell_type": "code",
   "execution_count": 48,
   "metadata": {
    "tags": []
   },
   "outputs": [
    {
     "output_type": "stream",
     "name": "stdout",
     "text": [
      "Getting thumbnail from video: 5c1c2b8d69, thumbnail: 2feb5c5e-bf61-4542-b5f9-af0c587b335f\n",
      "Getting thumbnail from video: 5c1c2b8d69, thumbnail: 2e226c69-9b27-4076-b404-8ad45353f8db\n",
      "Getting thumbnail from video: 5c1c2b8d69, thumbnail: f3d0131a-f9fd-48fe-8aed-87bb11968da5\n",
      "Getting thumbnail from video: 5c1c2b8d69, thumbnail: ce457d1e-04a7-4ee8-99fa-4ca53ad1ca7b\n",
      "Getting thumbnail from video: 5c1c2b8d69, thumbnail: d9c97c2a-3486-4ab8-8fa3-6d1ef07e1b8d\n",
      "Getting thumbnail from video: 5c1c2b8d69, thumbnail: 23a10025-b2ef-463c-8e39-571f2fcd422e\n",
      "Getting thumbnail from video: 5c1c2b8d69, thumbnail: 0c9c5cba-6534-4009-bb4f-1aa80c9d3828\n",
      "Getting thumbnail from video: 5c1c2b8d69, thumbnail: 70285405-16ee-4291-ae6a-10bc030f613a\n",
      "Getting thumbnail from video: 5c1c2b8d69, thumbnail: 1508a28f-6ecb-49be-af13-eb1fcec3f751\n",
      "Getting thumbnail from video: 5c1c2b8d69, thumbnail: df33ebb5-d4a8-49ef-9427-b37449178f70\n",
      "Getting thumbnail from video: 5c1c2b8d69, thumbnail: 271d3b37-c99a-498e-9b53-8d21c7ef5702\n",
      "Getting thumbnail from video: 5c1c2b8d69, thumbnail: b23bdca0-deae-497c-8526-8cfc0abb44a8\n",
      "Getting thumbnail from video: 5c1c2b8d69, thumbnail: c5cc72d5-37f8-4ce3-a199-ea602ce3eade\n",
      "Getting thumbnail from video: 5c1c2b8d69, thumbnail: b07ff5e1-8d18-458d-bbd9-12334958fb3c\n",
      "Getting thumbnail from video: 5c1c2b8d69, thumbnail: f974feab-c71f-4621-99dc-c7b2edcbe9e3\n",
      "Getting thumbnail from video: 5c1c2b8d69, thumbnail: e93b8f1d-8759-412c-b2f0-691ec7adbd9c\n",
      "Getting thumbnail from video: 5c1c2b8d69, thumbnail: d14ba20d-9460-4f6a-a898-97d328cdbb4f\n",
      "Getting thumbnail from video: 5c1c2b8d69, thumbnail: d9462374-7d10-4ef1-8410-44cf0ecf48fa\n",
      "Getting thumbnail from video: 5c1c2b8d69, thumbnail: fc053ef1-baea-4741-b0f9-b3445805802c\n",
      "Getting thumbnail from video: 5c1c2b8d69, thumbnail: 57b8bc27-7f2b-4ef4-9562-32e50418beba\n",
      "Getting thumbnail from video: 5c1c2b8d69, thumbnail: 7d7d297e-144c-45d3-a452-72868b7eee56\n",
      "Getting thumbnail from video: 5c1c2b8d69, thumbnail: 0d76f6d8-ed66-465c-bd49-2a4477e1e601\n",
      "Getting thumbnail from video: 5c1c2b8d69, thumbnail: 418d6f40-66be-49af-9e24-9498185850c8\n",
      "Getting thumbnail from video: 5c1c2b8d69, thumbnail: dde654e7-5be8-4366-b2f9-eb0438b70113\n",
      "Getting thumbnail from video: 5c1c2b8d69, thumbnail: 2ad46a5d-7880-4218-9634-f1973183b7ea\n",
      "Getting thumbnail from video: 5c1c2b8d69, thumbnail: 8e3b4763-325c-4a14-aac5-c9c7f4cfdcca\n",
      "Getting thumbnail from video: 5c1c2b8d69, thumbnail: 7273e5c2-e9d2-4c91-b5e9-79be60f28bd3\n",
      "Getting thumbnail from video: 5c1c2b8d69, thumbnail: 5c6913a2-7a83-473f-bae6-3ac27530b8e1\n",
      "Getting thumbnail from video: 5c1c2b8d69, thumbnail: 4b1f85b0-516c-4bfa-8ea4-4319af0ca630\n",
      "Getting thumbnail from video: 5c1c2b8d69, thumbnail: 9daaa0ca-a9c0-4b32-93f1-5de49eead1d9\n",
      "Getting thumbnail from video: 5c1c2b8d69, thumbnail: 9b0367d4-d167-4776-b02c-95dc57d2efab\n",
      "Getting thumbnail from video: 5c1c2b8d69, thumbnail: d7c089f4-429f-4f82-b684-1fb3b75d269f\n",
      "Getting thumbnail from video: 5c1c2b8d69, thumbnail: 41dbff94-abcf-4c3d-97f7-a5f0560887fd\n",
      "Getting thumbnail from video: 5c1c2b8d69, thumbnail: e09a7705-4740-4bb1-b2b9-f704c4a4cc8f\n",
      "Getting thumbnail from video: 5c1c2b8d69, thumbnail: 7f3e397c-4be4-48c1-9850-646abf1e25d6\n",
      "Getting thumbnail from video: 5c1c2b8d69, thumbnail: cb1efe09-3f58-491e-8120-5aeaa4142b3a\n",
      "Getting thumbnail from video: 5c1c2b8d69, thumbnail: 170119de-4c93-46db-8185-65b8bd7f691b\n",
      "Getting thumbnail from video: 5c1c2b8d69, thumbnail: a0342945-acc7-43c2-aeaa-2753a2d7164e\n",
      "Getting thumbnail from video: 5c1c2b8d69, thumbnail: c1e0cab7-985d-43ee-a584-984e196a68e1\n",
      "Getting thumbnail from video: 5c1c2b8d69, thumbnail: 92efd4ad-cd35-4f6c-b848-dd0db83b6b41\n",
      "Getting thumbnail from video: 5c1c2b8d69, thumbnail: 7c8780ce-36f7-4633-82c0-d9d4106dec04\n",
      "Getting thumbnail from video: 5c1c2b8d69, thumbnail: dbfe8ce8-fff1-473b-9d83-6db8e45d62ba\n",
      "Getting thumbnail from video: 5c1c2b8d69, thumbnail: 90b2019d-c2e8-4df9-9cab-c126dadbc5a8\n",
      "Getting thumbnail from video: 5c1c2b8d69, thumbnail: 3c2ca413-6a59-4f80-a31e-20cc630db50e\n",
      "Getting thumbnail from video: 5c1c2b8d69, thumbnail: eab7f84d-3daa-407b-a53f-f1793cda57a7\n",
      "Getting thumbnail from video: 5c1c2b8d69, thumbnail: 4ef1745f-5400-4234-bda4-188c5bf74a27\n",
      "Getting thumbnail from video: 5c1c2b8d69, thumbnail: 30a9803e-f013-4483-baf9-23b18e2225ba\n",
      "Getting thumbnail from video: 5c1c2b8d69, thumbnail: 717ed435-7a7d-4113-ad6d-638c91eb69f7\n",
      "Getting thumbnail from video: 5c1c2b8d69, thumbnail: 2a17f757-0c1a-491d-8d9f-82fc47488588\n",
      "Getting thumbnail from video: 5c1c2b8d69, thumbnail: a8714a6f-5652-461c-81b1-ae6392f17ffb\n",
      "Getting thumbnail from video: 5c1c2b8d69, thumbnail: 9aa1249d-ab29-4902-93b7-f86bc20d546d\n",
      "Getting thumbnail from video: 5c1c2b8d69, thumbnail: f402298b-4a9a-4d22-9da1-260d7c73fbe7\n",
      "Getting thumbnail from video: 5c1c2b8d69, thumbnail: 3a017ba4-0a68-4aba-a13e-97acec97d4dc\n",
      "Getting thumbnail from video: 5c1c2b8d69, thumbnail: bf72bc98-09d3-4350-9b02-d92c787ccf00\n",
      "Getting thumbnail from video: 5c1c2b8d69, thumbnail: ed8843da-91ae-4edd-a337-8dd9a2e90035\n",
      "Getting thumbnail from video: 5c1c2b8d69, thumbnail: 378a152c-da04-4ad7-90d8-92fbc5480c88\n",
      "Getting thumbnail from video: 5c1c2b8d69, thumbnail: 7f4b2ded-fb2b-408b-a7ac-6cc69f21883e\n",
      "Getting thumbnail from video: 5c1c2b8d69, thumbnail: 3e6eec85-4d31-4c2e-86ae-3dda4d949d80\n",
      "Getting thumbnail from video: 5c1c2b8d69, thumbnail: 62da7bd6-7b9a-4549-a9df-ea999ed7b190\n",
      "Getting thumbnail from video: 5c1c2b8d69, thumbnail: e6690a6e-fbf5-426d-a94b-f72bc9fd37a8\n",
      "Getting thumbnail from video: 5c1c2b8d69, thumbnail: b7353481-dce1-4977-acfb-42f030a3a1a1\n",
      "Getting thumbnail from video: 5c1c2b8d69, thumbnail: 11d51d9b-7fe8-4016-831a-1539c3fe54b2\n",
      "Getting thumbnail from video: 5c1c2b8d69, thumbnail: 0c08677f-1f9d-46b5-8c3a-07498bc9917e\n",
      "Getting thumbnail from video: 5c1c2b8d69, thumbnail: b4ae2650-62c9-43bd-8f8e-7af43d867019\n",
      "Getting thumbnail from video: 5c1c2b8d69, thumbnail: 3d75778d-0ef9-42bf-b4e4-c6873a858c82\n",
      "Getting thumbnail from video: 5c1c2b8d69, thumbnail: 66e0d632-d9b2-46b6-b982-54ae15595b7d\n",
      "Getting thumbnail from video: 5c1c2b8d69, thumbnail: 60e5fab8-33a7-4e8d-877a-fccf13289274\n",
      "Getting thumbnail from video: 5c1c2b8d69, thumbnail: 7755a959-4e3a-4671-a0e9-ad5cd4f10f5b\n",
      "Getting thumbnail from video: 5c1c2b8d69, thumbnail: 572eb4f7-5e29-42ac-985e-c842ab9effda\n",
      "Getting thumbnail from video: 5c1c2b8d69, thumbnail: fdda4ad7-3dc4-4fe2-bb23-d8c359388099\n",
      "Getting thumbnail from video: 5c1c2b8d69, thumbnail: ac6a4d31-80f9-4655-8eb5-ef637606eef5\n",
      "Getting thumbnail from video: 5c1c2b8d69, thumbnail: dcabefd3-2925-4074-a72a-e8d2cdaf0429\n",
      "Getting thumbnail from video: 5c1c2b8d69, thumbnail: 105b55b5-c2ff-4357-9df9-9243ee60fdac\n",
      "Getting thumbnail from video: 5c1c2b8d69, thumbnail: 96b42a90-1e5f-49ae-8774-9b83308fb959\n",
      "Getting thumbnail from video: 5c1c2b8d69, thumbnail: 8a4296e5-29bb-4fb5-855b-9be83d6353bd\n",
      "Getting thumbnail from video: 5c1c2b8d69, thumbnail: c7a5c889-72b4-4a54-99f4-64069200b02b\n"
     ]
    },
    {
     "output_type": "execute_result",
     "data": {
      "text/plain": [
       "\\x84ET\\x85\\x1bk\\xc2\\xa0\\x92\\x070\\xc5\\xf5e\\xd0\\xe5\\xb0RM=I]EU]A\\xbdMm\\\\\\xaa\\xa8\\xab\\xa8<\\xf2J\\xbe\\xf1\\xde\\x16\\x1eFM\\xc3\\xd2\\x95z\\xb4_\\xec\\xeaN\\x1f\\xbb&\\xbf)\\x15\\xb6\\xdbm\\xc2\\xb5j4\\xea\\xe7\\xdb\\x84]\\xaf\\xe5tGKW\\xdb\\x18\\xe0\\x92\\x15\\xc1\\x94\\xd7\\x85\\xa1q\\x85\\xc7,\\xd4\\xd2\\xf7\\x92S\\x8b\\n\\xe3R/\\xb7h\\xbb\\xf2\\xd9\\\\\\x91\\x8a\\x1aq\\x88\\x03\\x80\\x009IN\\xc3n{\\x17\\xee$\\x911\\xedY\\x00?9?g\\xfb\\x1f[Q:\\xe1\\x13\\xe9S\"\\x8a\\xd3\\rD\\x91\\xa1*V\\xd5a\\x16\\x00}\\xdd\\x8e\\xab\\xef7[\\xac<z\\x9cL=\\x9d2\\xb9\\x96\\xcb\\x96lyw\\x13\\xee\\x94#C\\x88\\xd3\\x9a\\x8d\\xec\\xed\\x97\\xaa\\xe4.n$\\x96,\\x11\\xc9s\\'\\xe5\\xa1\\x08\\xda\\xa9V\\xbd\\x98G\\xbd\\xcei\\xfbC]OON\\xb5E\\x96S\\xc5\\x14q*8\\x0e\\x92\\xa1a\\x00\\x03y\\x14\\x9c)\\'\\xf6F\\xc6\\xa4\\xe5\\x1d\\x9e\\xc9OZ\\xc2\\x88p\\xedJ\\xe6\\x94\\xa8\\x83\\xfb!Gj\\xbdQw\\xaauf\\xbd\\xa3\\x94C\\x97E-5\"\\xb6K]*0\\xa9H:\\xfa\\xba\\x15c\\x7f\\xdaV\\xa6l\\xe5\\xbb\\xa9>\\x1e\\xddK\\xbfh\\xbby\\x0f}Ge8\\xc6\\xa6\\xe9E\\xaa7\\x9cT\\xba;y\\x11\\x99\\xa4\\xb4\\xf1b\\xca\\xa8\\n\\xbb\\xca\\n\\xcc*O~E\\xf2\\xe0R\\xce\\xd2\\xb5z\\\\\\x809\\x0c\\x8b3\\xac\\x9eU\\x95.\\x96:x\\x00\\x89\\x01\\x00 \\xe3\\x1a\\xc7yW\\xb2F\\xc3\\xe5r2\\xf9\\xb4\\xcb\\xc4\\t\\xeau54\\xb3[\\xf3\\x15\\x8bJ\\x89OIhW\\xa5~P\\\\L\\xfeo\\xb3\\x82\\xb5$VQ\\xa8b\\xda\\xad\\x11M\\xc8;N\\xc3\\xcbo\\xab\\xe9\\xab\\xf0\\xe76\\xc5x\\xd2\\xe2y\\xb5$a\\x1ey\\xca\\xff\\x00\\x99\\xc3\\xd2\\xc98\\xb5\\xf9,LUV\\xd5\\x98N\\x89)\\x95{,\\x9cXA\\x1c\\xe4\\x8eNv4\\x99\\x8a)S\"\\xaa\\x91\\xd5\\xe3BS\\xf9\\xcb=\\xd9V}\\x08S\\xbbS\\xd4y\\x0fi\\x08\\t^cK\\n\\x02B\\x7f\"\\x0b(\\x00-\\xb0\\xa8\\xecdQvR\\x8a\\x9a\\xa0TM$\\xb5\\xd2\\x83p\\xba\\x83\\x8f\\t\\xfd\\x94\\x93\\x84y,\\x1e\\x9b\\x7f\\x84\\xf9\\x9dV\\xb1AR\\x8fW&\\x88\\xaf\\xf1\\'.\\xa7\\x17\\x82nr\\xe8\\x92`YV[>s^\\x8c\\xc6\\xaa\\x13\\x15<?d\\x81i\\x18\\xc9\\xf0\\xd2\\xfe\\xd1\\xf4S\\xc8\\x1f\\xa9\\xca\\t\\xa7+\\xc3m@Z\\xda\\xb5\\xb1\\x92\\x02v\\x00\\x06\\xf0\\xb0d\\xd0n\\xd7\\xf4\\x7fA\\xcbyV\\xdf\\x96m\\xb8P\\xd5\\xb5\\xde\\x97\\xf53\\xc3\\xe6\\\\\\xc6\\xb71\\xac\\xe7=\\x12\\xec\\xc7\\xc9~W\\xe6\\xc3\\xfa\\xe4\\xf6\\xd9\\x87\\x8b\\xf5\\xb4\\xe63\\xcb5\\x14\\xc8V\\x1b\\x14\\x8dC\\xf6\\x87\\x95\\xe85\\xd6\\x1f\\xf0\\xd2\\xfa\\xbe\\xf0\\xf4\\xc0\\xb1e\\xd4\\xe6\\xe2\\xd4\\xca\\xe4OV\\x1c\\xe7\\x89\\xde\\xac9\\xcf\\x13s\\xafL\\x11\\x1a\\x19\\x8d\\xdco.\\xbbR\\x10\\x89\\xe6\\xb4\\xaa\\xdfy\\xeb\\x0f\\x15\\x1c*\\xb7\\xde\\x03\\xc2]\\xa7\\xe9-\\x06\\xd1\\xd4a\\n\\x04^\\xe7coZ\\xfd\\x8f\\xc5\\x8dJ\\xdbm\\xae\\xe3N\\xea\\xe1\\x88\\xb52\\x99\\xa3\\t)\\xb7x\\x166\\x81W\\xd6\\xc8V\\xe5\\xe1\\x9c4,Fb\\x85I\\x96=[\\xa4\\xfbC\\x91\\xc7\\xe5`\\xc7\\xc2#\\xd6\\x1e\\xd6V\\xd7t\\xe0L\\x86\\xe9\\x03\\x8b\\x96\\x95j\\x95j\\xc46\\xa8\\x9bo\\x96~\\xd6\\x85\\x0e\\xf2\\xb7\\xd9(\\x04A:\\xa2\\xbaC\\x89\\xc9er\\nz]\\x19\\x17!J<l{mm\\x83rw\\xdc\\xc6\\x9a\\xb8\\xe4\\xee\\xac\\x19\\xd7\\x11\\xd1S\\x174\\xabB\\xe3F\\xc2,N\\xbd\\xe0\\xfa\\xc7\\xcc84o\\x96\\xe7N0WD\\xc5\\x08\\xd3\\x07\\xd4\\xcc\\x01j}\\x1a\\xdcc.\\xc3\\xfa\\xd0\\xe8\\x9f\\xc1\\xde\\xb2:\\'\\xf0ht7\\x8e^b\\xb0OX\\xfd\\x93\\xf8|\\xdd\\xd3\\xfe\\xc9\\xfc>m)\\xd4\\xfa\\xde9\\x05\\x89\\nU\\xde\\x14\\x1f#`[M \\xfc\\x84o66\\xe2&\\x0f\\x98\\xd3\\xaa\\xa9i)6\\xc2\\x0e\\xbf/\\xfd\\x8cq\\x96\\xc9m\\xaa\\x0c\\xd5n\\x9dyK6\\x8d)\\xae\\xe8\\x11\\xa54\\xc3HH;Bv\\x0ew\\xcd0\\xb6\\xa2\\xc8\\xae\\xfb9\\xf5\\xd1\\xefb7\\x194\\xb4\\t\\xadM\\x99\\x93mG\\x95\\xe3\\xac\\xa7\\xa2_\\x15\\xa9\\xae\\xdbZ\\xbby\\x86C\\xba\\xd2z%\\xe8J0\\x8d\\x8c{\\xb6\\x8d\\xc2w\\x98\\x9b@\\xd5\\xc6\\t\\xad\\xe8\\xb1\\xaa\\xeb\\x13\\x14\\x81%\\x04\\xdc\\x03}\\x8d\\xac,\\xc6\\xfdc\\xee%\\xd7\\x12C\\xa7\\x08\\xdfS\\xa71GA_\\x833(\\xaaD\\xab\\x97\\xba\\xa4\\xd8\\'\\xcb\\xac\\x97\\x12Ag\\xe4C\\xbf5\\xf9\\x91\\xefe9\\xcaR\\xb34\\xab\\x08\\xc6\\x9bh\\x96\\xd2#\\xf6\\xb8\\x87\\xe9>\\xc6D\\xca\\xc0/ul\\xda?[G+m\\x1f\\xdaQ\\xf5\\xf6\\x17\\xab\\xd1^\\xe70\\xdf\\x86\\xaf\\xc2\\'\\x89N\\xfc6N\\x98\\xe2f]\\xd2v\\x1d\\xaf\\x1e,\\xfcDGu):H\\xe3?\\'M\\x14\\x87\\xd2O\\xe3\\xf2d\\x1de\\xd7X\\x13+\\x89$FO\\x16\\x19\\x96/\\xca\\xf1\\xa3-\\xd5\\x7fi[[\\x1cCP\\xdc\\xad?\\x93\\'\\xac=\\xec\\xac\\x0cl\\xaf\\x82_\\xac\\x19LB\\x90=|ZH0\\xde\\xdd\\xe1\\xb6\\xd7au3}\\xd8\\xe2.F\\xa6\\xda?\\xa8cY\\xd4Ry\\x84]\\x81\\xd5H\\xa4\\x8b\\xe2O\\xe3\\xf2j\\xc6\\xcc\\x97\\x83;\\xc7\\xd8\\xc1sR\\x16\\xb1Qf\\x8a\\x99(\\xcae\\x91!BD\\x00\\xa1}E\\x88\\xe6\\xa9\\xac \\x8f\\xd5\\x0eZ%\\xbb0/\\x82\\xcb\\xe1Q\\xc4[\\xe9Rhb\\xd1\\xaf\\xbcnOw\\xca\\xc9c\\xd4p\\x8d\\xc1b\\x95\\x82\\xed\\x9b\\xeb\\x88\\xe8\\xab\\xf0\\xf9\\xbc\\xaf\\xfc`\\xc2\\x8e\\xe9N\\xde\\xf7\\xea\\xbbK}\\x16\\xb5\\xef\\'\\xde\\xf4\\x94\\x14\\x15\\xd6cqI]\\x18\\xf8r\\x8f\\xf1\\x07\\x13\\xa9\\xa74\\xaaL\\xa5X\\xb0\\x1b\\xdbU\\xd9vj\\xaa\\x1f\\x90\\xaf\\xa3\\xcd\\xceZ\\x92\\xb3\\xf7\\x98\\x19\\x8a/\\xb9\\xff\\x00<O\\xcfU\\xc5IW\\xda\\xdc\\xca\\x9e\\xa2\\x9e9a\\xad\\xa0\\xa6\\xa81\\xac\\x05\\x85\\x18\\x14\\xa8\\x94v\\x8d\\x86\\xca\\x02\\xe3k\\x97\\xc2\\xe2\\xb3\\xaf\\xf0\\xdd\\xa4\\xc8j\\x81\\xc2%MU\\n\\xcf>0%@\\xdf\\xbaM\\x9f\\x9d\\xf1-\\x17W\\x94\\xd6q\\xd5\\xc1\\xc6~6L\\xf5>\\x1f\\xaa\\xa1\\xcd(\\xa6\\xec\\xa4\\xa5\\x1fKk@\\x1a\\xac\\x92\\\\\\xbee|\\x1f0\\xaf\\xcb\\xc6\\xc3\\xa22\\xe9\\xa0\\xe5\\xd8\\x11 6\\x1b\\xdb\\x1eg\\xce{U\\x94\\xd2IQ4\\x99na\\x14\\t\\x05X\\x93-<\\xea\\x17\\x02\\xe7\\x02\\x8a\\t\\xdb\\xb6\\xc09\\x1a\\xd9\\x08\\x9a\\xcbTD.E&\\x9dHP:T\\x00\\x9d\\xba\\xf7@\\xe2\\n\\xf2\\x0b\\xb8\\xce\\xd2\\xdcd\\x95{\\r\\x94#G\\xd5R%\\xfc\\xccU\\xe5\\x15\\xe6\\xd2>\\x8aN\\xc9\\xbf\\x06\\xc2\\xa3\\xed.x\\x10\\x85\\xcb\\xd9\\xf5\\xc9\\x89!@\\xd3\\xd5$\\xa4\\x8f&4\\xa8\\xf2\\xf3\\xbe\\xaf\\xb5\\xd5\\xa3_g\\xb34\\x9e|Q\\x1f\\xf8\\x832\\x08\\x82`\\x89:\\xed\\x1a\\x07\\xe0\\x1e\\xb0&\\xfbqq\\xfe\\xa2\\xfe\\x82?\\x08\\xecg\\x18\\xbe5l\\x93\\xca=Q\\xe1?\\x8a\\xb7P\\x93N\\x95\\'f\\xd7\\xf1,\\x99\\x1c{_\\\\w9&a\\xc4\\x83\\xff\\x00\\x13\\x1e\\xab\\xb59\\x9a\\x10\\xb9\\x95\\x94\\xe6\\x08\\x8d#\\xbc\\xa5h\\xd0\\x05\\xcd\\xb9\\xdc\\xdci\\x03U\\xfe\\xbbX\\xbd\\xa3A\\x97!\\xcc\\x13\\xff\\x00\\xfc\\xebW\\x89e\\xfb\\x9cO\\xe1\\r\\xa4)T\\x9a\\xadS\\xbb\\x16\\xd2\\xf3i\\\\\\xaa_\\x15\\xd6\\x9dZp\\xe0G\\xbd8\\xc6\\xf7\\xca\\xec\\x8cVa\\xda)\\x94P\\x9c\\xa91\\x10m\\x8a\\xaa\\xa9;>\\x91\\xde\\xef?\\x0f\\xcfj\\x97\\xa4\\xa8\\xad\\xa7\\xa4\\xd9o\\xf0\\x90\\x05L\\x07GK5\\xc8\\x1b\\xce]i\\xc5\\x04\\x15\\x03h\\x9a(\\x97~r\\xa4$\\xb5\\xeb~\\x0e\\xa7\\xb6\\x9d\\xc0\\xfb#\\x91\\xe5\\xd3\\xf6\\x96\\xae:\\x84*\\xb7A\\r1\\x0b\\xaaQ\\x9aLk\\xc6I\\x18\\xae\\x00;;\\xa1\\xfb\\x88\\xf2\\x8d\\x1e\\xc4\\xe8\\xd29\\x02@\\x03\\xf0~S\\xb1\\x08\\xd2g\\xb9\\xc4\\xe3e\\xea!\\x88}\\xc4j\\xfc_\\xb9\\x7fG\\xf0\\xfc!K\\x97\\xc2p\\x8a\\x8c\\xa5)\\xb9;]\\xbdl\\xb5~\\x07\\x81\\xcf\\xebT\\xa9\\xcc*G\\x13\\xc3\\x18\\xc1%}:\\xb0?\\x86\\xcb\\xd3O\\xe2\\xe2e\\x18%\\x91<\\xcbP\\xfcK\\xf4`\\xbf;S\\xf6\\x89\\x7f\\x98\\xbfi~\\x96\\xd6r\\x9c\\x9ag\\x9f_\\xa1\\x8b\\xbe;\\xb1\\xf5\\xf4je\\x1b\\\\\\xbc\\xafpT\"\\x9dd\\x90M\\xf9\\x9e\\x1eV.\\xc6V\\x04\\xc2\\xfe\\'\\x17BO\\xc3\\xe6\\xf35ds\\xc4\\xa8\\xc0P*\\x1c\\xb6\\xf9\\xb1\\x00{\\x8cw\\xfe\\x85\\xac\\x0b\\xa0p\\xa2\\x95\\xce\\xba\\xfbgl\\xd9\\x03z\\x95G0\\xe3\\x0e\\xf5*\\x8ea\\xc6\\x19\\xe4Y\\xe5\\xe4\\xaaHK2\"|\\xbe\\xabJ\\xae\\xe0\\xe3x\\xf8}_@q\\xb9I\\xb8U}=\\x8f\\x97mSO\\xaej\\xe5)\\x80G\\x12\\xe9vJ-}Vz\\xd2\\xa3\\xca\\xf7_\\xbbF\\xf3E\\x9bO\\x0e\\x80\\x8d\\xaaD\\x91\\xb1\\xe2\\xe1\\xf1\\xd6\\xf1\\x0e\\xc6\\xd0\\xa1\\x8d\\x1b\\xec\\xb6\\x127i\\xdff\\xdfkt\\xc5#\\xb7hR{\\xc7|\\xb7\\xb5/t\\xad\\xf6\\xf3\\x10\\xb2\\x9b=\\n\\x98!\\xee\\xac\\x90u\\xea\\xbb\\xed\\xd8u\\xbc?\\xdd\\x0ef\\xdc\\x15\\xd0\\xd6\\xac+\\xafSs\\xab\\x89\\xa6\\xb6\\xa69R\\x90\\x8d\\xb6\\xbd\\xff\\x00\\x063\\xaap\\xeaI\\xab;\\x0f\\x01B\\x9e\\xa3\\xef.\\xcdot\\xdbeH\\xdfr\\x83!\\x9a5\\xf3{\\x1d\\xd1\\xaf\\x9b\\xd8\\xdf\\xb7\\xfc\\xd9\\xdd\\xafL\\x08W\\x11\\x88\\xbb\\x88\\xbe\\x1dn\\xb4\\xf4\\x18}<\\xd1\\xa6$\\x82|\\x9a\\x9e\\xfa\\xcc<\\xe7\\x89\\x8b\\x1e\\xe5\\xf5\\xa7;\\x82\\x82c\\xba\\xc4W\\xf4\\xbe\\xa1\\xde\\xb1\\x11\\xe5<E\\xa2\\xce\\xd89\\xb6\\xa5\\xad\\x15\\x8dWJ\\x85A`}$\\xb0\\xee\\xddU\\xc0\\xfdC\\x1f\\x91\\x82f\\xc9\\xc5\\xb0k.\\xe8%<\\x83\\x8d\\xf1\\x1b\\xa4\\xef\\xb2X\\xc1\\x03uy\\x9ft\\x89H\\t7\\xb8\\xd8w\\xd9\\x0c)\\xb6*M\\xf5{\\x18\\x03\\x82\\xad\\xb6\\xcf*\\xca\\xea\\xf3\\x01\\xa7\\x81\\x01I\\'\\r\\xca\\x80\\xda\\x9b]\\xf8\\xac\\xa9]\\xb5\\xcehsl\\xc6\\x9b3(\\xa5\\xca\\x93\\x12\\xeb&\\xa9\\xae\\x82\\x98\\'M\\xa5\\xd1\"=2\\x92e\\x92C\\x12\\xc2#\\x8e\\xea\\'`\\x1b[;A/\\x9c\\x8e\\xc7\\x9c\\xb99\\x9dmu \\xcc\\xa8`\\xcc\\xa8\\xc8\\xa9D\\x89\\x96\\x9aqt+\\x14d\\x80\\xae\\x92\\r\\x94\\x9eP\\xfc\\x9f\\xd6\\xed\\x9c[\\\\\\n\\xfa?\\xf7?H\\xf5\\x1f\\xc2\\x9b\\xdd-\\xb8\\xa1\\xff\\x00\\x1f\\xe8\\x9e\\xc0vs3\\xbe\\xd8S\\xe3\\x86\\xd8r\\xea\\xac\\xb4\\x9d2R\\x9cz\\xac\\xacW\\xb3\\xf2\\x94\\xf4^u\\xeai;;X\\x8a\\xbc\\xc0E\\xda:\\xb5P\\xe5\\nUlh\\xebS\\xa6D\\xc6A\\nX1\\xa3\\x11\\xb0Z\\xc0I\\xe4,,\\xbe\\xb3\\xce\\x06y\\x9b\\xaf(\\xa7\\xcck\\xa6\\xac\\x895\\x8aTj\\xaa\\t\\t\\x14Q\\xc9,\\xfd\\xf5\\x1c=\\xc4D\\xb3\\xafm\\xb67\\xfa\\xe3\\xb2\\xe9\\xb7\\xae\\x9f\\xfe?\\xd2\\x1b\\xf8Wz\\xed}\\xcd\\x1d<\\'\\xec=\\xd9\\x96\\xda\\xde\\xe9\\xaa\\xa3\\x8eD\\xa9J\\xb5\\xbc\\x8f\\xc8d\\xbd\\x9f\\xf3\\x9f\\x9ee\\xb4\\xd9\\x8cY\\xa2(\\xa9\\xaa\\xcc\\x82\\x85Y\\x96wG\\x96\\xaa\\xbc\\xc4\\xac+\\xea\\x91\\xd5\\xd4D\\xb9BU\\xdd*H\\xc1}\\x97cTe\\xfeq \\xec\\xee_\\xda\\x15\\xe6+\\x92\\x8b0\\xaa\\xeati\\x8f3\\x82j\\xb9\\xaa\\x01 \\xc4)#\\x99U\\x18\\xd2m\\x89%\\x17\\x18\\x93q\\xde\\x0c\\x7f\\x18\\xed\\xbem\\xb8\\xf5\\xc7\\xda\\x1f\\xaa{\\x9f\\x9cQ\\xf5O\\xd8}\\x0c\\xe7\\x14I\\xd6\\xb2w\\x81tg\\x14*\\xf4\\xcf\\xd1/\\xc3f}\\x94\\xf3\\x97\\x93e\\xf55u\\xf9\\xa5%4\\x94\\xb0\\xf5\\x8a\\x9c\\xb9y\\xee_\\xf1X\"\\xd9\\xde\\x92\\x84T\\x9a\\x80@\"\\xf1\\xe1\\xd2\\x0eT\\xb8\\xfe\\xcb\\xc7\\xdb\\xbe\\xd7UUSey\\x94\\xa5T\\xb4\\xb2V\\xd4*\\xa70\\x8a\\x8e\\x08\\xa9\\xe3R\\x10\\xa9\\x175L\\x91\\xc4\\x00R\\xd26\\xab\\x95\\xaf\\xd7\\x1d\\xaf\\xcd\\xeb\\x7f\\xc1\\xed#\\xf5Cq\\xf3\\x9a>\\xa9\\x1fF^aJ6\\xe2?PG\\xcd\\xe0\\xe64\\xea\\x16\\x0b~\"\\xa3\\xb3\\xbeu)s\\x9a,\\xa2I\\xaa\\x8dE}5Ee\\x14\\x91\\xd7\\xd3\\xcdGWOM\\x12\\xe5\\x9aH*\\xe1\\x99t\\xeb\\x08Dj\\xc4\\x02\\xf1\\'`#k\\x80\\xff\\x00Tv\\x8b\\xfe\\xa9Y\\xfd\\xd56\\xbe4\\xda\\xfc\\xda\\xb7\\xae\\x01\\xfa\\xa1\\xb9\\x7f\\xfc\\x9a?\\x9b3\\xe9\\xeb\\x8aiVV\\x13p\\x7f\\x17\\x9e\\xad?C\\xf1\\xfdO\\xcaI\\x90\\xf9\\xd9\\xa6\\xcer\\x9c\\x8eY\\xeb!\\xaf\\xcd\\xe8Q\\x98e\\xd0.\\xb6\\x14\\xf5\\x88W\\x1a\\xe4JB\\xd5&\\x111\\xc0\\xa4\\xe8TB\\xf1wmv\\x16H\\xaf89\\xfa+\\xa5\\xa4\\xccj\\x11\\x16^i\\x93Y=UlTp\\xc0\\xba\\xa9\\xc4\\x10F\\xb9*W\\x1aD\\x92Jl\\x13\\xae\\xc9Q;\\x01o\\xf5\\xcf\\x97\\xe6\\xf6\\xdb\\x87\\xef\\x87\\xe9\\x15\\xfa\\xa5\\xba\\xf9\\xc5\\x1fT\\xfd\\x87\\xd1\\xb2\\xe4\\x14!@\\x9bm\\x1b\\x0b\\'\\x91\\xf89\\xbb/\\xe7\\x82\\x9a\\xb7;\\xa2ML\\xf3\\xd4\\xe4tH\\xaf\\xcc\\xe2\\xa5\\xcci\\xaaU\\x04\\x0b\\xc4G\\x03*\\xf1\\xc8\\x02ITH\\xba\\xc0\\xdaC\\x88\\xa4\\xcd\\xfb}[\\x93\\xe6y\\xbc\\x19\\x9dj\\xa8\\xf2\\xc5\\xd1\\xa2\\xb2N\\xb0\\x01\\x8dU\\x8bZ \\xb2I\\xc4\\xacJB\\x81\\xc2\\r\\xb9Y\\xfa\\xe5\\xb1\\xe9\\xb7\\xdc\\x7f\\xed\\xfe\\x91?\\xaa\\x1b\\xbf\\x9c\\xd1\\xf5O\\xd8}:\\xa3\\x82;\\xe9j0\\xc8z/\\xc6\\xe5]\\x9d\\xf3\\xb1\\x99\\xd0\\xd2\\xd6\\xfcV,\\xb6:\\xc4i(Q\\x9a\\xe7T9\\\\\\xf5\\xc8:\\xa4\\xa6\\x82\\xb2x\\xa5\\x925z\\x12a\\x08W\\xa2K\\x02\\xa1^q\\xa9rZ\\xbc\\xe2L\\xdaN\\xadE]\\xf0\\xea\\xc4#1\\xa7\\x92\\xa6\\x96\\xa4\\xaeD%3S\\xa2EJ\\x94\\xadQH#^\\x1c\\n\\xc2H6g\\xeb\\x8e\\xc3\\xe6\\xfb\\x9f\\\\\\x17\\xff\\x00\\xd0\\xd7\\xc1\\xfb\\xaf\\x9c\\xd1\\xf5O\\xd8{\\xf5\\xd3\\xccRGw\\x8d\\x8chg\\xbe\\xc4\\xbb\\xd9\\x9a\\x89\\xaa{5\\x96O:\\xd5,\\xb2Q\\xc6\\xb5\\xadF\\xeaR\\x8d\\xf6\\x92\\xcb\\x17~\\xbd\\n\\xd0\\xddP\\xa5V*\\xcat\\xe1Q\\'\\x9d\\xa4\\xae\\xaey{\\x8aR\\xdb\\xd7\\xabE\\xe7Nr\\x83k&\\xe2\\xedt\\x06hjz.R\\x04\\x14\\xc3\\x18:\\xc2@-\\x0c\\xa8\\xf5\\r\\xe6\\xe7\\x136\\xca\\xd7%<\\x92*\\xe9\\r\\xb6\\xda\\xf6\\x8dN\\x14\\xb0\\x82\\x034u\\x1d\\x1f\\xc5\\xb2\\x9e\\x19!*\\xc6-{[\\xe8\\xcak\\x95\\xbe4\\xa7\\xddc\\xc6\\xfa\\x9c\\xbb]I\\xbc*\\xb7\\x91\\xe9\\xe6~\\x0c\\xb1DH\\x17\\x03\\x87\\xed\\xbd,\\xf2d\\x12\\xd4\\xc1\\xb2z\\x19\\xa0\\xac\\x88\\x8d\\xd0\\xd1/\\xbdm\\xa3RI\\'\\xc8\\x1c\\xd3\\xc5DH\\xa8\\x82XV\\x90Q\"\\x15\\x1a\\x81\\xd4R\\xa1c\\xf8\\x16n\\xf60\\xaf\\xb5\\xadE\\xbb\\xf1!(\\xf9f\\xb4\\xfa\\xcd\\xb6\\xbb\\x97GqJ\\xb2\\xce\\x9c\\xe3+y\\xd9\\x9e\\x04B\\xa4\\xc7NS4\\x98b\\xfc\\xe8E\\xf85\\xac\\x02d@\\xb9\\x00\\xabe\\xd3\\xa9\\xa2\\xa0\\xd6-\\x11\\xc7-eD\\xa9\\x92\\xaa R\\xa5~Z\\x94\\xa5\\x82v\\x11{l\\xd8/\\xb1\\xbdHFT\\xaa\\x8c\\xbau\\x84.\\x92S\\x1a1\\x1e\\x125\\x1b\\xc6\\xa4\\xed7\\x04\\x1bl$\\x0bkk\\xa3R3L\\xce\\x8a\\no\\xcf\\x08\\xa9L\\xb2\\x94\\x8e\\xe2P\\x81\\xaf\\x16\\xad\\xebk\\x7f\\x17\\n\\x15\\x96\\xee4\\x1ce\\x8dU\\xc1d\\x9b\\xd5\\x1fZ\\xebS\\x96\\xdd\\xd5RXxx\\xf5\\xb7e\\xfaOl\\x98$\\xc0\\x92\\x06\\xcc)\\xf6;\\xd5\\xa4<\\x8c\\x94\\x15\\x04$m\\xd8\\x03\\xbb_\\xdb\\xd3\\xa4\\x94c\\xfb\\xab\\xe8>:z\\xc9\\xfe\\xf3\\xfaA\\xc42#]\\x9a\\xeb 3\\xd1T\\xc5\\xd3\\x82d\\xf1\\xc6@\\xfcY2>\\r\\xbb9\\x0e\\xc3\\xf5jt\\xd3\\x8c\\x97\\x84\\xbe\\xb4\\xc2\\x0f\\x0c\\xa2\\xfc\\x9a~\\xa6y\\xfa^\\xd2e\\x90\\xf6o/D\\x92\\xaaI\\xd1\\x0ci\\xd0\\xc4\\x92\\xb9o\\x19(7\\x1b\\x00\\xd5\\xca\\xa1v\\xb3\\x9f\\xe5\\x95HRSP\\xbau&\\xd2ZH\\xd4\\x83d\\x1b\\x94\\xed\\xd8I\\xe6\\x05\\xc6G\\na\\x15\\x90\\xea1\\xd6\\xd4\\xc4F\\xa20\\xafe\\xc0\\xdf\\xd8\\xd1Z\\x00\\xa7]\\xc0V\\xcb$r\\xe3Wu<w\\xd4\\xfe\\x16\\xa2\\xc1^\\xa4<\\xaaJ+\\xd7\\xa1\\xf6t\\x9a\\x95\\ns\\xf3\\x82\\x97\\xd4z\\xcf7\\x8a\\xbd\\x04\\xb5\\xe4a\\x155\\xb3N/\\xac&\\xe4\\x00y\\xf5k\\x0f\\xd7|f\\x8b\\x95v\\xfc}\\xcf\\xce\\xe4\\x14\\'.\\xc9(\\xe9\\x8e\\xe91 \\xaa\\xc2\\xdbN\\xd3\\xb3\\xea\\xc8\\xe5\\x7fY\\xcbv\\xfc-\\x86\\xde\\rY\\xaaj\\xeb\\xc5\\xea|\\xc70\\xae\\xaa\\xefk\\xc9<K\\x13I\\xf8-\\t\\xb1\\x9d\\xe5\\xc3\\xf8\\x8a\\xf1K\\x88\\x9d:i\\x96\\xb4\\xedJ\\x94\\xa5$\\xf3\\x82^\\x1bb\\xdc\\'\\xd5\\x0f\\xafoMFN\\xddNj\\xd2\\xb8\\xad\\x0c\\xafb\\x9eS\\xc8\\xd8\\xf4\\x8dOff\\'\\xaa\\xcd\\xcc\\x1eM,\\xdc\\xc1\\x94\\x1e\\xac\\xd6+\\x15\\x19X\\x0cR\\xcc9\\x1fD\\x12\\xa4\\xdc\\x8b\\x0b\\x16S\\xcc\\x9b\\x82\\xcb\\x89\\xcc\\x1d\\xd7_]\\x08?M\\x17M>0\\xf9\\xbb\\xa6\\x8b\\xa6\\x8f\\x18|\\xdc{\\xaf>\\r\\xba\\x89D\"y\\xe3\\xd2\\x1e\\xfa99C\\xc6\\x9e;\\xf0\\x89\\xe3a\\xafj\\xcd\\xdf6\\x078\\xec\\xedo\\x0c\\xcaT\\xbcG\\xd6\\xad\\x0bRp\\xaa\\xfb\\x0e\\xad\\xbc\\xdc\\xcd \\xdb\\x9f\\x88\\xfc\\x9e\\xe2z\\xb3N\\xa9J\\x90\\xac+V\\xe5+;\\xc9?\\'t3x5\\xf8\\xa7\\xe4\\xc9\\xa6\\xbe?\\xa1d\\xdd\\x97\\x1f\\x0c\\x8fJ$\\x04]\\n\\xb0\\xe5 \\xd9\\x90*!\\xf0\\x89\\xe3m\\x9c\\x9d\\x0c\\xbe\\xa2\\xbd\\x8e\\'m\\x99\\n\\x96\\x13\\xa7n\\xa4\\x8fX\\x87\\xa6\\x9e7\\xcc%[@$\\x1d\\xa0\\x8dE\\xc7\\x1b\\xb9Z~\\x02?Q>\\xc7p\\xa8\\xdb\\xc8\\x99F\\xc2\\xf4k\\xe8\\x96\\x1dx)\\x9e\\xc4z \\xb97\\x1d\\x9a}\\xa0z\\xa1\\xba\\xaf\\xbb\\xef\\x08\\xe6\\x0b\\xb5\\xf4%J\\xd4\\t}\\xb3e8\\xda\\xf2,^\\x8eN\\x82\\xf8\\x9e\\xe0\\x8eA2\\tB\\x80\\xbf(\\xb3#k\\xea6\\xad7\\xe7b\\xcd\\t\\xc4\\xee\\x03\\xcd\\xfex\\x9f0\\x1eb\\xdf`\\xe8\\x01\\xf4a\\xd0\\x80N\\xaf0<\\x1a\\xf8\\x9ft3x%q9\\'^rW\\x04\\xc0cJ\\x80\\xb1J\\x81\\xf2\\x87\\xdc*\\xe6,\\xa5n\\x9d\\xd4\\x1a\\xe1\\x14\\xaa\\xf8\\x03\\x08e^\\xe5\\n?G\\xde\\xad?\\x83W\\x13>\\x80\\xf0\\x9fw\\xde\\xc8q=\\x1d\\x8d)\\xacQ\\xb9\\tUK>\\x8a\\xda5\\xeb\\x1e\\x8b\\x18S\\xd4\\x0f\\xe1I\\xe2\\xfe\\xb7?Y\\xb6\\x1f\\xab\\r\\xd4!\\x8d\\\\\\x8a\\x92\\xc2\\xecF\\xa6\\t\\x81\\x04\\xc5 \\x00\\xde\\xf8\\x7f[u\\xd9\\x8b\\xdc+\\xd5>\\xc6*C|/\\x11Fw3v$\\xc8%R\\xd8\\x1d\\x98\\xf9<\\x8c\\xe2\\x05\\x9a\\x96\\t\\xc49\\xd2\\xa6\\xa5Hx\\x8f\\x15\\xd9\\xff\\x00\\xff\\x00\\xc6}\\xbd\\xff\\x00\\xc7\\xf6_\\xfe\\xfb0~\\xef\\xb4\\xb9J\\xbc\\xe6I\\x07c\\xcc\\xd0\\xc3\\x98d\\xf9\\x7fe3L\\xaey\\x14\\x90\\x06WY\\x95PE\\x9bFJ\\xb0\\x8c4\\xea0\\xd6\\x04\\xde\\xfb$\\xb3\\xf1\\xd9\\x1eW\\xda\\x0c\\xab!\\xed\\x0eKU\\xd9\\xd5f\\x10\\xe7\\x06\\x8di\\x95\\x19\\x944\\xca\\xa6\\x9a\\x88\\xd4\\x18e\\x16\\x12iS\\x8abU\\x19\\xc2\\x0e\\x1b]\\x8b\\xf0\\x0f9K\\xac5\\xf7\\xcc:\\xd1\\xa5\\xeaF\\xa0WD\\x99\\xba\\xae\\x83\\xab\\xf5|bptZ\\x0f\\xca\\xc1\\xab\\x07u\\xfcw\\xe1|\\xc2\\xff\\x00\\xd979\\xff\\x00&g\\xd6~!\\xb0\\xd3\\xfc\\xe6\\xd7\\xe5\\xa1\\xed=\\xd4\\xbd\\xa5\\xa1\\xcd\\xd7\\xe6\\xea\\xae\\x9dH\\xa7\\xc9\\xf2\\xff\\x008re\\x99Bv\\x84\\xc5\\x96P\\xc3\\x95\\xc5N\\xa5^\\xd6T\\xa2\\xf3JM\\x8e9\\x14_\\x9e\\xecFQ\\x99\\xe5^u{I-m$\\xf4\\xd1\\xe5\\x94}\\xae\\x9a\\xbaIcZ#\\xa7\\x8dT\\x15\\xb1\\xa1kQ\\x16\\xb2\\xd7\"\\x04g\\xd3\\xc40\\xde\\xef\\xcf\\xaf\\xb2]\\xbb\\x92\\x82,\\xbdt\\xf5\\n\\xa4\\x86i*\"\\xa65Phc\\x9aT\\xa52H\\x94i\\xb0\\x85\\xad(HR\\x86\\xb0\\x03\\x91\\xccO\\x9e<\\xdf+NS_\\x98g\\x15\\x94!)OV\\x9b2B\\xe3ZQ\\xb8L\\x97\\x9e\\xf2%\\x1b0\\xa6B\\xa09\\x18\\xf9o0\\xeb\\xb3\\xdc\\xaf\\xfcS\\xf6\\x0f\\xf1\\r\\x87\\xce\\xf6\\xdf+\\x0f\\xd2\\r\\xec\\xb1\\xa1\\xf3\\x81K\\xd9\\xce\\xc5v\\x93(\\xcci+\\x84=O\\xb3\\x9d\\xa0\\xa3\\x8eK\\xc7\\x04\\xd2I4q\\xd7RH\\x04u4bE\\xa8\\xf5\\x88\\x94\\x85\\xc6\\x9b\\xed\"\\xe5\\xcdy\\xbd\\x8e,\\xb2\\x87\\xcd\\xccur@4]\\xab\\xed\\x8d<\\x13H\\x7f\\xc3u\\xef\\x87A\\x15\\x14\\xb8\\xc8\\xc3\\x87\\xae\\x08\\xf0*\\xfa\\xf6\\x8dO\\xcc\\xd2\\xab\\xcf-\\x06P2z\\\\\\xc79\\xa7\\xcb\\xd2\\x85F\\x9aH\\xb3$&4F\\xbb\\xe2\\x8d\\x16\\x9f\\x12\\x10nn\\x94\\x90\\x9d\\xa7c\\x1a|\\xaf\\xce\\x85FO\\x06M4\\x99\\x8c\\x99e:\\x92\\xb8(U]\\x19\\xa5\\x85I$\\xa5Q\\xc6g\\xc2\\x92\\x92M\\x88\\xd5r\\xcf\\xc3\\xf7\\xff\\x004\\xdc\\xfc\\x94\\xfd\\x81\\xf8\\x86\\xc3\\xe7{o\\x95\\x87\\xe9\\x10\\x99\\xaeS\\x9fSfY\\x8c9\\x95\\x1drk\\xa9\\xe5\\x99u\\xe2h\\xa52\\xc6\\xbcD\\xc9$\\xc4\\xa7\\x95G\\x11\\x90\\x9b\\x1b\\xde\\xfb_\\xa3\\xf3C\\x1e[\\'\\xfa\\xe0frT\\xc5G\\xfe\\x90\\xaf\\xeb+\\xa5\\x8e9\\xaaQ\\x1f]\\xa1\\xb9\\x869\\x97\\x1ckX6\\xb0R\\xd3\\xbe\\xedmO\\x9e\\\\\\xcb+9Ufg\\x9dT\\xd0\\xaa4\\xc4\\xbais4\\xad\\x12F\\x9dQ\\xc9y\\xf1-\\x02\\xdb\\x95\\x92<\\x8e6\\x8f\\xb2\\xbd\\xba\\xcb\\x93T\\x9aJz\\x8at\\xd5\\xd3\\xae\\x92\\xa4ES\\x02D\\xf4\\xebRT\\xa8d\\xb4\\xdd\\xe4)II);\\r\\x83?\\x0e\\xdf\\xdf\\xfb&\\xe7\\xe4g\\xec\\x17\\xe2;\\x0f\\x9d\\xed~^\\x9f\\xb4\\xf5\\xbd\\x88\\xed>I\\x9av\\xb3\\xb2=\\x9e\\xc8i\\xb3\\x08\\xb2\\xcc\\x93/\\xedl\\x91\\xd4f2D\\xaa\\xda\\xca\\x8a\\xfc\\xaa\\xa9sH\\xb8\\xe0\\xbc0F\\x9d\\x1aS\\x14HR\\xed\\xb4\\xa9D\\x97\\xe5\\xbc\\xda\\xf6Pg\\xbd\\xb4\\xcb)\\xb3H\\x97O\\x96\\xd3\\x993<\\xd2Y\\x90\\xa4F\\x8c\\xbf/OX\\xa9*\\xc4\\x9d\\xa9)H\\x8c\\xd8\\x13\\xdf\\x1b\\x1e2\\xae\\xccv\\xf7$\\xae\\x86\\xbf,\\x86\\xaa\\x86\\xae\\x1cF\\x1a\\x9aj\\xb8\"\\x9a2\\xa4\\x94+\\n\\xd35\\xc5\\xd2\\xa2\\r\\xb5\\x83g!\\x98/\\xcf\\x16o\\x12\\xe1\\xae\\xcc3\\x8a\\xb4I\\x0c\\xb4\\xcbD\\xb9\\x94j\\x0b\\x82s\\x19\\x96%~~\\xd8\\xe41\\xc7\\x8d:\\x95\\x84]\\x9f\\x86\\xf3\\x05\\x9e\\xd3r\\xbf\\xf1O\\xd8\\x1f\\x88l>w\\xb5\\xf9j\\x7f\\xa4zN\\xd7\\xd7\\x0e\\xd2vR\\xaf\\xb4\\x19gj(\\xb3\\xcc\\xeb\\xb3\\x1d\\xa0\\x97<\\x82Z\\x083\\ne\\xd0eY\\x95Bm\\x10\\x15\\xf4\\xd0(\\xa2\\x96\\xb1\\x11*1\\x1e!\\x1aT\\xa0\\xad`\\xb8\\xdf;y\\xed\\x14\\xd4\\x9d\\x9e\\xa2\\xca2\\xff\\x00\\x87\\xc5\\xda(\\xa9\\xfbe\\x9b\\xc5\\x19*\\xeb\\x19\\x8d~8DHJ\\x7f\\x81\\x06\\x8eUE\\x1d\\x8d\\x952\\x8b\\x81\\xa0\\xeco\\x9c\\x1c\\xbd5B\\x8a\\x96\\xa6\\x9cU\\xd3\\xae\\x92\\xa8EWN\\x81QM!I\\\\\\x12\\x815\\x95\\x1a\\x8aRJN\\xcb\\x80\\xf6{%\\xe7)U4\\x15&\\x1a\\xc3>]\\x1c0\\xd0K\\xd7 \\xc7I\\x1c\\x0b+\\x85\\x10\\xabOt&5(\\x94\\x01\\xa8\\x96\\xbf\\x0f\\xdf\\xfc\\xd3s\\xf2S\\xf6\\x07\\xe2\\x1b\\x0f\\x9em~Z\\x1f\\xa4{\\x8c\\xeb:\\xcc\\xfb/\\xdao<\\x99\\xce]!\\xa7\\xac\\xa2\\xa9\\xec\\xc4\\xf0\\xa8\\xa6\\xe1C\\xaf\\xd3\\xe2B\\xd2\\xa1\\xde\\x8aT]\\x0bI\\xd8\\xa4\\x92\\xc2\\xccr\\x8c\\x96?7\\xdd\\xac\\xed>V\\x84\\xa3\\xb3\\xfd\\xa1\\xad\\xec\\xbdH\\xa6I\\xc5&YS\\x15t\\xff\\x00\\x12\\xcb\\x166\\x1f\\xc8Z\\xef\\x01\\xb0\\n\\x85h~k6\\xca|\\xecfK\\xab^i.cX\\xaa\\xe8\\xa9\\xe1\\xab3\\xd7\\xc5!\\xaa\\x8a\\x99x\\xe0D\\xb7\\x9f\\xbe\\x98\\x97\\xdeE\\xf5\\x1d\\xacH\\xbb7\\xe7\\x02\\x1c\\xb2\\xa3)\\x8a*\\xa8\\xe8*f\\x8ey\\xe8\\xd3Y\\x08\\xa7\\x9aX\\xf7\\x12.=6\\x12\\xb4\\xf2\\x12\\xcf\\xc3\\xf7\\xff\\x004\\xdc\\xfc\\x94\\xfd\\x81\\xf8\\x86\\xc3\\xe7\\x9b_\\x96\\xa7\\xfaG\\xa4\\xed\\xceIK\\x99\\xf9\\xe2\\xadGh`\\xce\\xe6\\xcb3yi\\x06ES\\x94hLk\\xa3\\xa8\\x10\\xa2\\x85p*x\\xa6\\x89T\\xd1\\xc0p\\x98\\xe2\\x00\\xa5I\"\\xc2\\xc48\\xfa\\xdc\\xa2\\x0c\\x83\\xb2\\xdet\\xb2\\x98\\x16\\xb9b\\xcb\\xfbK\\x91\\xd1G$\\x96\\xd2-\\x14\\xf5\\x19\\xb4iR\\xf0\\x80\\x9b\\x90\\x9b\\x9b\\x00/v\\xac\\xb6o<\\x9d\\x9f\\xcb\\xba\\x8e]\\x99gT\\x14i\\xdc\\xc1\\x06f\\x11\\x1cx\\xb5\\xe8\\x80\\xa8\\xfc\\xbb\\xeb\"<;]E\\'h\\xa3\\xec\\x86g\\x91\\xff\\x00\\xa7\\xe6]fk]I[]\\x9a\\xcd\\x9aE\"\\xa54\\x8b\\x9dQ$S\\xabR\\x8e\\x9dzI\\x0c\\xcaR\\x8d\\x8b?\\x0e\\xe6\\x1f4\\xdc\\xfc\\x94\\xfd\\x83\\xfcCa\\xf3\\xbd\\xb7\\xcbC\\xf4\\x8fS\\xd99aOer\\x94\\xe9\\x13\\x8b\\xa9\\xc6\\x9c7\\xdb\\xca\\xcf\\x0e\\x17\\xb3\\xf4\\xf3Qe\\x99m4\\xc9\\xc1$Q\\xc5\\x1a\\xd3{\\xd8\\xdfh\\xb8s_G\\xf5\\xbb\\t\\xf0\\xf6;X\\xd9\\xddP\\xa4\\x9a\\xf2j\\tX\\xf9}\\xfcUM\\xfe\\xed\\xc6JI\\xee*\\xb4\\xd6\\xa9\\xa7,\\xd5\\x8bv\\xf4T\\xd3\\x04&\\xf3 \\x1b\\rg\\xc8\\xd4u8\\xc9xU\\xfa\\xc5\\xeb*\\xb8\\xace\\xc1\\xf1&z\\xd5/\\x86\\x8b\\xc6\\xfdM\\x88\\xa9\\xa7)\\xd9*H\\xdf~t\\xdd\\x99Cq\\x07\\xde.E\\xc1\\xf1%\\xfa\\xcd?\\x85G\\x1b\\xc4\\xb50\\x1dR\\xa3\\x8d\\x82\\xebt\\xe3y\\x04\\xa9\\xd9^\\xe1\\x9ah\\xbaa\\xe6Y#Rl\\x14\\t\\xe6\\x0cS\\xad\\xea\\x0e\\x1e?X=0Y_\\xc8\\x9bkcXU\\xd1_\\x8a~O\\x85*\\xb6\\xe5^)\\xf93l\\xed\\x9a\\xe3x\\x1aF\\x89\\x03[\\x93e\\xb5\\xf2ij\\xa8\\xe1\\x9e@\\x9c\\x01JO{\\x0f5\\xff\\x00S\\xdd6_GH\\x00\\x82\\x9e8\\xc6\\xa0\\x00\\x1f+\\xb2\\x94\\x05\\xdf9Z\\x86\\xda\\x82\\xa9\\xc5T\\xa9\\xa9\\xe7\\x8b\\n\\xbe\\xa2\\x96\\xe3p\\xe1\\xc2uj8-\\x141<+<\\x91\\xa4%XF\\xc7p+\\x99\\xb2=\\xc8z\\xb3\\xd2\\xe4\\\\\\x1eT\\xab\\x99\\xaf\\x02\\xb9\\x8b&P\\xf2.\\xc6\\x813\\xcef\\xfd\\x8c\\xcd\\xeb\\xf3:\\xaa\\x8c\\xa5t\\xc0T\\xfet\\x91M\\x8a\\xe2]\\x81E\\x04\\x11`\\xbd\\x97\\xbbV_\\xe6\\xf7\\xb4\\xd2\\xe6\\x14\\x8b\\xcc\\xa1\\x8a:h\\xa4L\\xcaDX\\x94\\xach\\xdc\\xa0\\x9e[\\x13rul~\\xcb*\\xfbr}E{C\\x96\\xb9<\\xdcv~N\\xef\\x90\\xf2\\xf7\\xbbu\\xf0;\\xb9q\\x1co\\xdd\\xbf\\xa2\\xc7\\xa7\\xb6\\xe7\\xdb\\xfa{uI8\\xb4\\x96\\x05\\'|IZ\\xdd\\x1aD\\x1a\\xe9j\\x10\\x824K\\xee\\xa7\\x99\\x8cc\\x93\\x16\\xe5O\\xd0\\xd5\\xfd\\x9e_P\\xb8\\xdb>\\xea?\\xb5\\x8eIa\\xb6G\\x05Ia\\x93\\xf1\\xd4\\x03\\x04\\x97\\xdc\\xab\\x89\\xbd\\x11\\xaf\\x00\\xee\\x96C\\xafH\\xf7H\\x94\\xf1t\\x11\\xa3_D\\xb6G\\x1c\\x85;\\x92\\xf5v\\xf87\\n\\xf5\\x9b\\xa9W\\xc0\\x9b\\x89\\xd1\\xae\\xdb\\x95q<\\xac\\xa6\\x1bi\\x08E\\xf5b\\xd9~6[\\x03<\\xdcA\\xeb\\x9fs\\x88\\xd4\\xc4\\xec;\\xdc\\xefY\\xa7\\xf0\\xb1\\xf8\\xc1\\xe5u0\\x14\\x9bH\\x8f\\x188\\xdb>\\x87x\\xc3\\x08V\\x91\\x1d4\\xf1\\xbb\\xa5GM?\\xe7\\xe8\\xc7\\xc2\\xee\\x16\\xf1\\x8e\\xc1.\\x93\\xb1\\xd7\\xc3\\xa9\\xd3\\x12\\xe8.A\\xdfS\\xc9\\x0fK\\xdd>\\x17\\x8b\\xcf\\xdeh\\x86S\\xb7Y\\xa6\\x06\\xe6\\xb2)2\\xc0;\\xcc\\x86\\x885\\xf1\\xb7\\xb0b\\xaax\\x19=E{\\x1cXr\\x95<\\x0c\\x9e\\xa2\\xbd\\x8e,7\\x12\\'\\x99\\xc3\\xb5\\xcbC\\xc0E\\xea\\'\\xd8\\x1cK\\x96\\x87\\x80\\x8b\\xd4O\\xb0;\\x89\\x12\\xd4\\xd5\\xd8\\x19\\x90\\xbdG\\xdd\\x0c\\xf6\\x0ec\\xf6\\x8f\\xba\\x1a\\xab\\xd9\\x14;@\\xd6m\\xa7\\rM\\xb4\\xee\\rG\\x11wc\\x1b]}F\\xb6\\xe1\\x9f\\xbd\\x04\\xb2\\x1dg@\\xda\\xeb\\xe8\\xd6\\xfa:\\x19\\x0cN\\xa7\\xd7\\xc4\\xea}y\\xf5\\x11\\xc7]u\\xb0\\x1dG\\xca\\xdeZ(\\xf9[\\xcb\\xc6\\xa7m\\x9b\\xd1\\xfb5\\xef\\x17W\\xc0\\x96\\x18fU\\xf0%\\x86\\x1d\\xd1\\xc8\\xce\\xb7h\\xec\\xdb\\x85z\\xaa\\xf61\\x13\\xa9\\x976\\xe1^\\xaa\\xbd\\x8cD\\xeavLN_k\\xe3\\xa5\\xd6\\xd036\\x1bYtv\\x10\\r\\xf2\\xc4\\xe7e\\xd2\\xf0\\t\\xdfW\\xb9\\xcfP\\x1a\\x00/\\x8aH\\xb3\\xeau:\\xbdN\\x80B\\x80\\xb9y\\x94\\x0c\\x05\\xedZ\\xde%\\xdc\\x16\\x00=\\x83\\xb6\\x0e\\xba\\x1c\\x81l\\x1d\\xb0}u\\x8f\"\\x89j\\x1f\\xb2\\xc5\\xfey\\x9b\\x95\\xaf\\xe8\\xd3C\\xf6X\\xbe\\xbe\\xe6\\xe5k\\xfa<e\\x99\\x98\\x16k\\xc8\\xc1\\x0c\\xec\\xd7\\x91\\x82\\x1e\\xd4\\xbe\\xca>\\xf3J}J\\xa6\\x93\\xad\\xb9M\\'[*t*\\xc6\\xa2\\xe1c\\xf5\\xd1\\xfb\\xc1\\xc9\\xd88\\xc8\\xb8X\\xfdt~\\xf0r\\x87S\\xc8 d\\x9b\\xb8\\xc9\\xb8Uo\\xb9.W\\x1b7\\n\\xad\\xf6\\x8a\\x17fe\\x0f\\xd9\\xfe\\xf2\\x98\\x85\\x97C\\xf6s\\xeb)\\xb2^c\\x0b\\xa1\\xd2\\xe8uK\\xb69\\xf6\\x19N\\xb7\\xban\\x1e/\\\\<\\x1dot\\xdc<^\\xb8z\\xbe\\xc32]\\xa4H>\\x1dO\\xaf\\x8b\\xdc+x\\xbc:\\x9d\\x1f\\xc3\\xee#U\\xac\\xbe=/Yy{\\xc3/q\\x84\\xfbO\\xd2>\\x11x\\xfe\\xad\\x96x\\x83\\x83\\x0flbf$\\x01\\xe0X\\xbd\\xca\\xf0\\x9d_F\\n=\\xa6\\x13\\x96}\\xaf\\xee\\x1fhr\\xb6\\x1c\\xc0\\xef\\xb8\\xac\\xb3\\xed_p\\xfbC\\x95|\\xbb\\x9e\\xd9\\xbd>\\xc0\\x9a\\x8b\\xe8\\x97\\xbcX\\x0c\\xfa\\x8e\\x0eM\\xe2\\xc0u\\xb4\\xfe\"7?\\xc2q\\xd2\\xeb\\xa5\\xea\\xbbFo3-\\xf0\\xee\\x1a\\x1b\\xe0\\xdc\\x86\\xaa\\x8d\\x0cag;\\x88\\xb7\\xd5\\xeef\\xb0\\xb3\\x9d\\xc4[\\xea\\xf78\\x87hQ\\xcc\\x8b|}|\\x0e\\xd9f\\xae_n_\\x1d`3\\xff\\xd9'"
      ]
     },
     "metadata": {},
     "execution_count": 48
    }
   ],
   "source": [
    "for keyframe in keyframes:\n",
    "    img_str = vi.get_thumbnail_from_video_indexer(video_id,    \n",
    "                                                  keyframe)\n",
    "img_str"
   ]
  },
  {
   "source": [
    "Use the Azure Computer Vision API to Extract Popular Brands from Key Frames\n",
    "\n",
    "INSTALL COMPUTERVISION CLIENT"
   ],
   "cell_type": "markdown",
   "metadata": {}
  },
  {
   "cell_type": "code",
   "execution_count": 6,
   "metadata": {},
   "outputs": [
    {
     "output_type": "stream",
     "name": "stdout",
     "text": [
      "Requirement already satisfied: azure-cognitiveservices-vision-computervision in c:\\users\\ayool\\desktop\\videoindexingproject\\clayvideo\\lib\\site-packages (0.7.0)\n",
      "Requirement already satisfied: msrest>=0.5.0 in c:\\users\\ayool\\desktop\\videoindexingproject\\clayvideo\\lib\\site-packages (from azure-cognitiveservices-vision-computervision) (0.6.21)\n",
      "Requirement already satisfied: azure-common~=1.1 in c:\\users\\ayool\\desktop\\videoindexingproject\\clayvideo\\lib\\site-packages (from azure-cognitiveservices-vision-computervision) (1.1.26)\n",
      "Requirement already satisfied: isodate>=0.6.0 in c:\\users\\ayool\\desktop\\videoindexingproject\\clayvideo\\lib\\site-packages (from msrest>=0.5.0->azure-cognitiveservices-vision-computervision) (0.6.0)\n",
      "Requirement already satisfied: certifi>=2017.4.17 in c:\\users\\ayool\\desktop\\videoindexingproject\\clayvideo\\lib\\site-packages (from msrest>=0.5.0->azure-cognitiveservices-vision-computervision) (2020.12.5)\n",
      "Requirement already satisfied: requests~=2.16 in c:\\users\\ayool\\desktop\\videoindexingproject\\clayvideo\\lib\\site-packages (from msrest>=0.5.0->azure-cognitiveservices-vision-computervision) (2.25.1)\n",
      "Requirement already satisfied: requests-oauthlib>=0.5.0 in c:\\users\\ayool\\desktop\\videoindexingproject\\clayvideo\\lib\\site-packages (from msrest>=0.5.0->azure-cognitiveservices-vision-computervision) (1.3.0)\n",
      "Requirement already satisfied: six in c:\\users\\ayool\\desktop\\videoindexingproject\\clayvideo\\lib\\site-packages (from isodate>=0.6.0->msrest>=0.5.0->azure-cognitiveservices-vision-computervision) (1.15.0)\n",
      "Requirement already satisfied: urllib3<1.27,>=1.21.1 in c:\\users\\ayool\\desktop\\videoindexingproject\\clayvideo\\lib\\site-packages (from requests~=2.16->msrest>=0.5.0->azure-cognitiveservices-vision-computervision) (1.26.3)\n",
      "Requirement already satisfied: idna<3,>=2.5 in c:\\users\\ayool\\desktop\\videoindexingproject\\clayvideo\\lib\\site-packages (from requests~=2.16->msrest>=0.5.0->azure-cognitiveservices-vision-computervision) (2.10)\n",
      "Requirement already satisfied: chardet<5,>=3.0.2 in c:\\users\\ayool\\desktop\\videoindexingproject\\clayvideo\\lib\\site-packages (from requests~=2.16->msrest>=0.5.0->azure-cognitiveservices-vision-computervision) (4.0.0)\n",
      "Requirement already satisfied: oauthlib>=3.0.0 in c:\\users\\ayool\\desktop\\videoindexingproject\\clayvideo\\lib\\site-packages (from requests-oauthlib>=0.5.0->msrest>=0.5.0->azure-cognitiveservices-vision-computervision) (3.1.0)\n",
      "Note: you may need to restart the kernel to use updated packages.\n",
      "WARNING: Retrying (Retry(total=4, connect=None, read=None, redirect=None, status=None)) after connection broken by 'ProxyError('Cannot connect to proxy.', timeout('_ssl.c:1074: The handshake operation timed out'))': /simple/azure-cognitiveservices-vision-computervision/\n",
      "WARNING: Retrying (Retry(total=3, connect=None, read=None, redirect=None, status=None)) after connection broken by 'ProxyError('Cannot connect to proxy.', timeout('_ssl.c:1074: The handshake operation timed out'))': /simple/azure-cognitiveservices-vision-computervision/\n",
      "WARNING: Retrying (Retry(total=2, connect=None, read=None, redirect=None, status=None)) after connection broken by 'ProxyError('Cannot connect to proxy.', timeout('_ssl.c:1074: The handshake operation timed out'))': /simple/azure-cognitiveservices-vision-computervision/\n",
      "WARNING: Retrying (Retry(total=1, connect=None, read=None, redirect=None, status=None)) after connection broken by 'ProxyError('Cannot connect to proxy.', timeout('_ssl.c:1074: The handshake operation timed out'))': /simple/azure-cognitiveservices-vision-computervision/\n",
      "WARNING: Retrying (Retry(total=0, connect=None, read=None, redirect=None, status=None)) after connection broken by 'ProxyError('Cannot connect to proxy.', timeout('_ssl.c:1074: The handshake operation timed out'))': /simple/azure-cognitiveservices-vision-computervision/\n"
     ]
    }
   ],
   "source": [
    "pip install --upgrade azure-cognitiveservices-vision-computervision"
   ]
  },
  {
   "cell_type": "code",
   "execution_count": 50,
   "metadata": {},
   "outputs": [
    {
     "output_type": "stream",
     "name": "stdout",
     "text": [
      "Requirement already satisfied: pillow in c:\\users\\ayool\\desktop\\videoindexingproject\\clayvideo\\lib\\site-packages (8.1.0)\n",
      "Note: you may need to restart the kernel to use updated packages.\n",
      "WARNING: You are using pip version 20.1.1; however, version 21.0.1 is available.\n",
      "You should consider upgrading via the 'c:\\Users\\ayool\\Desktop\\VideoIndexingproject\\clayvideo\\Scripts\\python.exe -m pip install --upgrade pip' command.\n"
     ]
    }
   ],
   "source": [
    "pip install pillow"
   ]
  },
  {
   "source": [
    "AUTHRNTICATE THE CLIENT"
   ],
   "cell_type": "markdown",
   "metadata": {}
  },
  {
   "cell_type": "code",
   "execution_count": 11,
   "metadata": {},
   "outputs": [],
   "source": [
    "from azure.cognitiveservices.vision.computervision import ComputerVisionClient\n",
    "from azure.cognitiveservices.vision.computervision.models import OperationStatusCodes\n",
    "from azure.cognitiveservices.vision.computervision.models import VisualFeatureTypes\n",
    "from msrest.authentication import CognitiveServicesCredentials\n",
    "\n",
    "from array import array\n",
    "import os\n",
    "from PIL import Image\n",
    "import sys\n",
    "import time\n",
    "\n"
   ]
  },
  {
   "source": [
    "GET VARIABLES FOR ENDPOINT AND APIKEYS"
   ],
   "cell_type": "markdown",
   "metadata": {}
  },
  {
   "cell_type": "code",
   "execution_count": 12,
   "metadata": {},
   "outputs": [],
   "source": [
    "subscription_key_CV = \"c31039d57019480baf596f1ae6acdfa8\"\n",
    "endpoint_CV = \"https://cognitivegeneral.cognitiveservices.azure.com/\"\n",
    "computervision_client = ComputerVisionClient(endpoint_CV, CognitiveServicesCredentials(subscription_key_CV))"
   ]
  },
  {
   "source": [
    "VISUALIZE KEYFRAMES"
   ],
   "cell_type": "markdown",
   "metadata": {}
  },
  {
   "cell_type": "code",
   "execution_count": 13,
   "metadata": {},
   "outputs": [
    {
     "output_type": "error",
     "ename": "NameError",
     "evalue": "name 'keyframes' is not defined",
     "traceback": [
      "\u001b[1;31m---------------------------------------------------------------------------\u001b[0m",
      "\u001b[1;31mNameError\u001b[0m                                 Traceback (most recent call last)",
      "\u001b[1;32m<ipython-input-13-21310b115c3f>\u001b[0m in \u001b[0;36m<module>\u001b[1;34m\u001b[0m\n\u001b[0;32m      6\u001b[0m \u001b[0mtimeout_interval\u001b[0m\u001b[1;33m,\u001b[0m \u001b[0mtimeout_time\u001b[0m \u001b[1;33m=\u001b[0m \u001b[1;36m5\u001b[0m\u001b[1;33m,\u001b[0m \u001b[1;36m10.0\u001b[0m\u001b[1;33m\u001b[0m\u001b[1;33m\u001b[0m\u001b[0m\n\u001b[0;32m      7\u001b[0m \u001b[0mimage_features\u001b[0m \u001b[1;33m=\u001b[0m \u001b[1;33m[\u001b[0m\u001b[1;34m\"brands\"\u001b[0m\u001b[1;33m]\u001b[0m\u001b[1;33m\u001b[0m\u001b[1;33m\u001b[0m\u001b[0m\n\u001b[1;32m----> 8\u001b[1;33m \u001b[1;32mfor\u001b[0m \u001b[0mindex\u001b[0m\u001b[1;33m,\u001b[0m \u001b[0mkeyframe\u001b[0m \u001b[1;32min\u001b[0m \u001b[0menumerate\u001b[0m\u001b[1;33m(\u001b[0m\u001b[0mkeyframes\u001b[0m\u001b[1;33m)\u001b[0m\u001b[1;33m:\u001b[0m\u001b[1;33m\u001b[0m\u001b[1;33m\u001b[0m\u001b[0m\n\u001b[0m\u001b[0;32m      9\u001b[0m     \u001b[1;32mif\u001b[0m \u001b[0mindex\u001b[0m \u001b[1;33m%\u001b[0m \u001b[0mtimeout_interval\u001b[0m \u001b[1;33m==\u001b[0m \u001b[1;36m0\u001b[0m\u001b[1;33m:\u001b[0m\u001b[1;33m\u001b[0m\u001b[1;33m\u001b[0m\u001b[0m\n\u001b[0;32m     10\u001b[0m         \u001b[0mprint\u001b[0m\u001b[1;33m(\u001b[0m\u001b[1;34m\"Trying to prevent exceeding request limit waiting {}  seconds\"\u001b[0m\u001b[1;33m.\u001b[0m\u001b[0mformat\u001b[0m\u001b[1;33m(\u001b[0m\u001b[0mtimeout_time\u001b[0m\u001b[1;33m)\u001b[0m\u001b[1;33m)\u001b[0m\u001b[1;33m\u001b[0m\u001b[1;33m\u001b[0m\u001b[0m\n",
      "\u001b[1;31mNameError\u001b[0m: name 'keyframes' is not defined"
     ]
    }
   ],
   "source": [
    "import time\n",
    "from IPython.display import display\n",
    "from PIL import Image\n",
    "import io\n",
    "\n",
    "timeout_interval, timeout_time = 5, 10.0\n",
    "image_features = [\"brands\"]\n",
    "for index, keyframe in enumerate(keyframes):\n",
    "    if index % timeout_interval == 0:\n",
    "        print(\"Trying to prevent exceeding request limit waiting {}  seconds\".format(timeout_time))\n",
    "        time.sleep(timeout_time)\n",
    "# Get KeyFrame Image Byte String From Video Indexer\n",
    "img_str = vi.get_thumbnail_from_video_indexer(video_id, keyframe)\n",
    "# Convert Byte Stream to Image Stream\n",
    "img_stream = io.BytesIO(img_str)\n",
    "# Analyze with Azure Computer Vision\n",
    "cv_results = computervision_client.analyze_image_in_stream(img_stream, image_features)\n",
    "print(\"Detecting brands in keyframe {}: \".format(keyframe))\n",
    "if len(cv_results.brands) == 0:\n",
    "    print(\"No brands detected.\")\n",
    "else:\n",
    "    for brand in cv_results.brands:\n",
    "        print(\"'{}' brand detected with confidence {:.1f}% at location {}, {}, {}, {}\".format( brand.name, brand.confidence * 100, brand.rectangle.x, brand.rectangle.x + brand.rectangle.w, brand.rectangle.y, brand.rectangle.y + brand.rectangle.h))"
   ]
  },
  {
   "source": [
    " Key Frames to Azure Custom Vision API to Custom Detect Brands¶\n"
   ],
   "cell_type": "markdown",
   "metadata": {}
  },
  {
   "cell_type": "code",
   "execution_count": 59,
   "metadata": {},
   "outputs": [
    {
     "output_type": "stream",
     "name": "stdout",
     "text": [
      "Requirement already satisfied: azure-cognitiveservices-vision-customvision in c:\\users\\ayool\\desktop\\videoindexingproject\\clayvideo\\lib\\site-packages (3.1.0)\n",
      "Requirement already satisfied: msrest>=0.5.0 in c:\\users\\ayool\\desktop\\videoindexingproject\\clayvideo\\lib\\site-packages (from azure-cognitiveservices-vision-customvision) (0.6.21)\n",
      "Requirement already satisfied: azure-common~=1.1 in c:\\users\\ayool\\desktop\\videoindexingproject\\clayvideo\\lib\\site-packages (from azure-cognitiveservices-vision-customvision) (1.1.26)\n",
      "Requirement already satisfied: certifi>=2017.4.17 in c:\\users\\ayool\\desktop\\videoindexingproject\\clayvideo\\lib\\site-packages (from msrest>=0.5.0->azure-cognitiveservices-vision-customvision) (2020.12.5)\n",
      "Requirement already satisfied: requests-oauthlib>=0.5.0 in c:\\users\\ayool\\desktop\\videoindexingproject\\clayvideo\\lib\\site-packages (from msrest>=0.5.0->azure-cognitiveservices-vision-customvision) (1.3.0)\n",
      "Requirement already satisfied: requests~=2.16 in c:\\users\\ayool\\desktop\\videoindexingproject\\clayvideo\\lib\\site-packages (from msrest>=0.5.0->azure-cognitiveservices-vision-customvision) (2.25.1)\n",
      "Requirement already satisfied: isodate>=0.6.0 in c:\\users\\ayool\\desktop\\videoindexingproject\\clayvideo\\lib\\site-packages (from msrest>=0.5.0->azure-cognitiveservices-vision-customvision) (0.6.0)\n",
      "Requirement already satisfied: oauthlib>=3.0.0 in c:\\users\\ayool\\desktop\\videoindexingproject\\clayvideo\\lib\\site-packages (from requests-oauthlib>=0.5.0->msrest>=0.5.0->azure-cognitiveservices-vision-customvision) (3.1.0)\n",
      "Requirement already satisfied: idna<3,>=2.5 in c:\\users\\ayool\\desktop\\videoindexingproject\\clayvideo\\lib\\site-packages (from requests~=2.16->msrest>=0.5.0->azure-cognitiveservices-vision-customvision) (2.10)\n",
      "Requirement already satisfied: chardet<5,>=3.0.2 in c:\\users\\ayool\\desktop\\videoindexingproject\\clayvideo\\lib\\site-packages (from requests~=2.16->msrest>=0.5.0->azure-cognitiveservices-vision-customvision) (4.0.0)\n",
      "Requirement already satisfied: urllib3<1.27,>=1.21.1 in c:\\users\\ayool\\desktop\\videoindexingproject\\clayvideo\\lib\\site-packages (from requests~=2.16->msrest>=0.5.0->azure-cognitiveservices-vision-customvision) (1.26.3)\n",
      "Requirement already satisfied: six in c:\\users\\ayool\\desktop\\videoindexingproject\\clayvideo\\lib\\site-packages (from isodate>=0.6.0->msrest>=0.5.0->azure-cognitiveservices-vision-customvision) (1.15.0)\n",
      "WARNING: You are using pip version 20.1.1; however, version 21.0.1 is available.\n",
      "You should consider upgrading via the 'c:\\users\\ayool\\desktop\\videoindexingproject\\clayvideo\\scripts\\python.exe -m pip install --upgrade pip' command.\n"
     ]
    }
   ],
   "source": [
    "!pip install azure-cognitiveservices-vision-customvision\n"
   ]
  },
  {
   "source": [
    "INITIALIZE CUSTOM VISION CLIENT"
   ],
   "cell_type": "markdown",
   "metadata": {}
  },
  {
   "cell_type": "code",
   "execution_count": 79,
   "metadata": {},
   "outputs": [],
   "source": [
    "from azure.cognitiveservices.vision.customvision.prediction import CustomVisionPredictionClient\n",
    "from msrest.authentication import ApiKeyCredentials\n",
    "prediction_threshold = .8\n",
    "prediction_key =  \"ee27e51576d049fdb0d180bb91f1fa89\"\n",
    "ENDPOINT = \"https://cvtestayo-prediction.cognitiveservices.azure.com/\"\n",
    "project_id = \"a6161fd5-c077-45f6-987f-0b486aa07557\"\n",
    "published_name = \"Iteration1\"\n",
    "credentials = ApiKeyCredentials(in_headers={\"Prediction-key\": prediction_key})\n",
    "predictor = CustomVisionPredictionClient(endpoint=ENDPOINT, credentials=credentials)"
   ]
  },
  {
   "source": [
    "PREDICT KEYFRAMES WITH CUSTOM VISION MODEL"
   ],
   "cell_type": "markdown",
   "metadata": {}
  },
  {
   "cell_type": "code",
   "execution_count": 80,
   "metadata": {},
   "outputs": [
    {
     "output_type": "stream",
     "name": "stdout",
     "text": [
      "Trying to prevent exceeding request limit waiting 10.0 seconds\n",
      "Getting thumbnail from video: 5c1c2b8d69, thumbnail: 2feb5c5e-bf61-4542-b5f9-af0c587b335f\n"
     ]
    },
    {
     "output_type": "error",
     "ename": "CustomVisionErrorException",
     "evalue": "Bad Request Image Format, Uri: 5b90a1572a5644768a5b28b6fd4fe87c",
     "traceback": [
      "\u001b[1;31m---------------------------------------------------------------------------\u001b[0m",
      "\u001b[1;31mCustomVisionErrorException\u001b[0m                Traceback (most recent call last)",
      "\u001b[1;32m<ipython-input-80-1c776b7f04d1>\u001b[0m in \u001b[0;36m<module>\u001b[1;34m\u001b[0m\n\u001b[0;32m     12\u001b[0m     \u001b[0mimg_stream\u001b[0m \u001b[1;33m=\u001b[0m \u001b[0mio\u001b[0m\u001b[1;33m.\u001b[0m\u001b[0mBytesIO\u001b[0m\u001b[1;33m(\u001b[0m\u001b[0mimg_str\u001b[0m\u001b[1;33m)\u001b[0m\u001b[1;33m\u001b[0m\u001b[1;33m\u001b[0m\u001b[0m\n\u001b[0;32m     13\u001b[0m     \u001b[1;31m# Analyze with Azure Computer Vision\u001b[0m\u001b[1;33m\u001b[0m\u001b[1;33m\u001b[0m\u001b[1;33m\u001b[0m\u001b[0m\n\u001b[1;32m---> 14\u001b[1;33m     \u001b[0mcv_results\u001b[0m \u001b[1;33m=\u001b[0m \u001b[0mpredictor\u001b[0m\u001b[1;33m.\u001b[0m\u001b[0mdetect_image\u001b[0m\u001b[1;33m(\u001b[0m\u001b[0mproject_id\u001b[0m\u001b[1;33m,\u001b[0m \u001b[0mpublished_name\u001b[0m\u001b[1;33m,\u001b[0m \u001b[0mimg_stream\u001b[0m\u001b[1;33m)\u001b[0m\u001b[1;33m\u001b[0m\u001b[1;33m\u001b[0m\u001b[0m\n\u001b[0m\u001b[0;32m     15\u001b[0m     \u001b[0mpredictions\u001b[0m \u001b[1;33m=\u001b[0m \u001b[1;33m[\u001b[0m\u001b[0mpred\u001b[0m \u001b[1;32mfor\u001b[0m \u001b[0mpred\u001b[0m \u001b[1;32min\u001b[0m \u001b[0mcv_results\u001b[0m\u001b[1;33m.\u001b[0m\u001b[0mpredictions\u001b[0m \u001b[1;32mif\u001b[0m \u001b[0mpred\u001b[0m\u001b[1;33m.\u001b[0m\u001b[0mprobability\u001b[0m \u001b[1;33m>\u001b[0m \u001b[0mprediction_threshold\u001b[0m\u001b[1;33m]\u001b[0m\u001b[1;33m\u001b[0m\u001b[1;33m\u001b[0m\u001b[0m\n\u001b[0;32m     16\u001b[0m     \u001b[0mprint\u001b[0m\u001b[1;33m(\u001b[0m\u001b[1;34m\"Detecting brands in keyframe {}: \"\u001b[0m\u001b[1;33m.\u001b[0m\u001b[0mformat\u001b[0m\u001b[1;33m(\u001b[0m\u001b[0mkeyframe\u001b[0m\u001b[1;33m)\u001b[0m\u001b[1;33m)\u001b[0m\u001b[1;33m\u001b[0m\u001b[1;33m\u001b[0m\u001b[0m\n",
      "\u001b[1;32mc:\\Users\\ayool\\Desktop\\VideoIndexingproject\\clayvideo\\lib\\site-packages\\azure\\cognitiveservices\\vision\\customvision\\prediction\\operations\\_custom_vision_prediction_client_operations.py\u001b[0m in \u001b[0;36mdetect_image\u001b[1;34m(self, project_id, published_name, image_data, application, custom_headers, raw, **operation_config)\u001b[0m\n\u001b[0;32m    356\u001b[0m \u001b[1;33m\u001b[0m\u001b[0m\n\u001b[0;32m    357\u001b[0m         \u001b[1;32mif\u001b[0m \u001b[0mresponse\u001b[0m\u001b[1;33m.\u001b[0m\u001b[0mstatus_code\u001b[0m \u001b[1;32mnot\u001b[0m \u001b[1;32min\u001b[0m \u001b[1;33m[\u001b[0m\u001b[1;36m200\u001b[0m\u001b[1;33m]\u001b[0m\u001b[1;33m:\u001b[0m\u001b[1;33m\u001b[0m\u001b[1;33m\u001b[0m\u001b[0m\n\u001b[1;32m--> 358\u001b[1;33m             \u001b[1;32mraise\u001b[0m \u001b[0mmodels\u001b[0m\u001b[1;33m.\u001b[0m\u001b[0mCustomVisionErrorException\u001b[0m\u001b[1;33m(\u001b[0m\u001b[0mself\u001b[0m\u001b[1;33m.\u001b[0m\u001b[0m_deserialize\u001b[0m\u001b[1;33m,\u001b[0m \u001b[0mresponse\u001b[0m\u001b[1;33m)\u001b[0m\u001b[1;33m\u001b[0m\u001b[1;33m\u001b[0m\u001b[0m\n\u001b[0m\u001b[0;32m    359\u001b[0m \u001b[1;33m\u001b[0m\u001b[0m\n\u001b[0;32m    360\u001b[0m         \u001b[0mdeserialized\u001b[0m \u001b[1;33m=\u001b[0m \u001b[1;32mNone\u001b[0m\u001b[1;33m\u001b[0m\u001b[1;33m\u001b[0m\u001b[0m\n",
      "\u001b[1;31mCustomVisionErrorException\u001b[0m: Bad Request Image Format, Uri: 5b90a1572a5644768a5b28b6fd4fe87c"
     ]
    }
   ],
   "source": [
    "\n",
    "import time\n",
    "timeout_interval, timeout_time = 5, 10.0\n",
    "image_features = [\"brands\"]\n",
    "\n",
    "for index, keyframe in enumerate(keyframes):\n",
    "    if index % timeout_interval == 0:\n",
    "        print(\"Trying to prevent exceeding request limit waiting {} seconds\".format(timeout_time))\n",
    "        time.sleep(timeout_time)\n",
    "    # Get KeyFrame Image Byte String From Video Indexer\n",
    "    img_str = vi.get_thumbnail_from_video_indexer(video_id, keyframe)\n",
    "    # Convert Byte Stream to Image Stream\n",
    "    img_stream = io.BytesIO(img_str)  \n",
    "    # Analyze with Azure Computer Vision\n",
    "    cv_results = predictor.detect_image(project_id, published_name, img_stream)\n",
    "    predictions = [pred for pred in cv_results.predictions if pred.probability > prediction_threshold]\n",
    "    print(\"Detecting brands in keyframe {}: \".format(keyframe))\n",
    "    if len(predictions) == 0:\n",
    "        print(\"No custom brands detected.\")\n",
    "    else:\n",
    "        for brand in predictions:\n",
    "            print(\"'{}' brand detected with confidence {:.1f}% at location {}, {}, {}, {}\".format( \\\n",
    "                brand.tag_name, brand.probability * 100, brand.bounding_box.left, brand.bounding_box.top, \\\n",
    "                brand.bounding_box.width, brand.bounding_box.height))"
   ]
  },
  {
   "cell_type": "code",
   "execution_count": null,
   "metadata": {},
   "outputs": [],
   "source": []
  }
 ]
}